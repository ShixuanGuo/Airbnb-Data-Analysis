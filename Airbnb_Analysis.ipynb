{
 "cells": [
  {
   "cell_type": "code",
   "execution_count": null,
   "metadata": {},
   "outputs": [],
   "source": [
    "# Import necessary packages\n",
    "import pandas as pd\n",
    "import numpy as np\n",
    "import operator\n",
    "\n",
    "from nltk.corpus import stopwords\n",
    "stop = stopwords.words('english')\n",
    "import string\n",
    "from string import digits\n",
    "punctuation = string.punctuation\n",
    "\n",
    "from pandasql import sqldf\n",
    "\n",
    "import datetime\n",
    "\n",
    "%matplotlib inline\n",
    "import matplotlib.pyplot as plt\n",
    "\n",
    "#set you style if you want\n",
    "plt.style.use(\"ggplot\")"
   ]
  },
  {
   "cell_type": "markdown",
   "metadata": {},
   "source": [
    "### Question 1: How many unique listings are there in the LA dataset? How many unique hosts are there?\n",
    "**Question 1 Answer:** The number of unique listings is 45053, and the number of unique hosts is 26286.\n"
   ]
  },
  {
   "cell_type": "code",
   "execution_count": 1,
   "metadata": {},
   "outputs": [
    {
     "name": "stderr",
     "output_type": "stream",
     "text": [
      "/Users/sherryguo/anaconda3/lib/python3.7/site-packages/IPython/core/interactiveshell.py:3057: DtypeWarning: Columns (61,62) have mixed types. Specify dtype option on import or set low_memory=False.\n",
      "  interactivity=interactivity, compiler=compiler, result=result)\n"
     ]
    },
    {
     "data": {
      "text/plain": [
       "(45053, 26286)"
      ]
     },
     "execution_count": 1,
     "metadata": {},
     "output_type": "execute_result"
    }
   ],
   "source": [
    "df_list=pd.read_csv('listings.csv')\n",
    "df_review=pd.read_csv('reviews.csv')\n",
    "df_cal=pd.read_csv('calendar.csv')\n",
    "unique_id=df_list.id.nunique()\n",
    "unique_host=df_list.host_id.nunique()\n",
    "unique_id,unique_host"
   ]
  },
  {
   "cell_type": "markdown",
   "metadata": {},
   "source": [
    "### Question 2: What is the mean, median, standard deviation, minimum and maximum of the number of listings per host in LA? (for each host, you only need to consider the listings from LA)\n",
    "**Question 2 Answer:** the mean is 11.932, median is 1.000, standard deviation is 242.144, minimum is 1.000 and maximum is 29584.000. \n"
   ]
  },
  {
   "cell_type": "code",
   "execution_count": 2,
   "metadata": {},
   "outputs": [
    {
     "data": {
      "text/plain": [
       "mean         11.932397\n",
       "median        1.000000\n",
       "std         242.143721\n",
       "amin          1.000000\n",
       "amax      29584.000000\n",
       "Name: calculated_host_listings_count, dtype: float64"
      ]
     },
     "execution_count": 2,
     "metadata": {},
     "output_type": "execute_result"
    }
   ],
   "source": [
    "df_2=df_list.groupby(by=['host_id'])['calculated_host_listings_count'].sum()\n",
    "df_2a=df_2.agg([np.mean,np.median,np.std, np.min, np.max])\n",
    "df_2a"
   ]
  },
  {
   "cell_type": "markdown",
   "metadata": {},
   "source": [
    "### Question 3: What is the average and standard deviation number of listings for a super host versus a non-super host? Does super host or non-super host have more listings on average?\n",
    "**Question 3 Answer:** For super host, the average number of listings is 7.359 with a standard deviation of 20.867. For non-super host, the average number of listings is 6.795 with a standard deviation of 14.348.\n"
   ]
  },
  {
   "cell_type": "code",
   "execution_count": 3,
   "metadata": {},
   "outputs": [
    {
     "data": {
      "text/html": [
       "<div>\n",
       "<style scoped>\n",
       "    .dataframe tbody tr th:only-of-type {\n",
       "        vertical-align: middle;\n",
       "    }\n",
       "\n",
       "    .dataframe tbody tr th {\n",
       "        vertical-align: top;\n",
       "    }\n",
       "\n",
       "    .dataframe thead th {\n",
       "        text-align: right;\n",
       "    }\n",
       "</style>\n",
       "<table border=\"1\" class=\"dataframe\">\n",
       "  <thead>\n",
       "    <tr style=\"text-align: right;\">\n",
       "      <th></th>\n",
       "      <th>host_is_superhost</th>\n",
       "      <th>mean</th>\n",
       "      <th>std</th>\n",
       "    </tr>\n",
       "  </thead>\n",
       "  <tbody>\n",
       "    <tr>\n",
       "      <th>0</th>\n",
       "      <td>f</td>\n",
       "      <td>6.795214</td>\n",
       "      <td>14.348464</td>\n",
       "    </tr>\n",
       "    <tr>\n",
       "      <th>1</th>\n",
       "      <td>t</td>\n",
       "      <td>7.359444</td>\n",
       "      <td>20.866644</td>\n",
       "    </tr>\n",
       "  </tbody>\n",
       "</table>\n",
       "</div>"
      ],
      "text/plain": [
       "  host_is_superhost      mean        std\n",
       "0                 f  6.795214  14.348464\n",
       "1                 t  7.359444  20.866644"
      ]
     },
     "execution_count": 3,
     "metadata": {},
     "output_type": "execute_result"
    }
   ],
   "source": [
    "# You need to provide the code to answer the previous quesiton\n",
    "df_3=df_list.groupby(by=['host_is_superhost'])['calculated_host_listings_count'].agg([np.mean,np.std])\n",
    "df_3.reset_index(inplace=True)\n",
    "df_3"
   ]
  },
  {
   "cell_type": "markdown",
   "metadata": {},
   "source": [
    "### Question 4: What are the unique types of host verifications are there? (It doesn't matter if you include \"None\" or empty string as a type)\n",
    "**Question 4 Answer:** There are 22 unique types of host verification in LA database.\n"
   ]
  },
  {
   "cell_type": "code",
   "execution_count": 4,
   "metadata": {},
   "outputs": [
    {
     "data": {
      "text/plain": [
       "{\"'email'\": 42359,\n",
       " \"'phone'\": 44881,\n",
       " \"'facebook'\": 8430,\n",
       " \"'reviews'\": 32907,\n",
       " \"'kba'\": 10762,\n",
       " \"'jumio'\": 20670,\n",
       " \"'government_id'\": 28789,\n",
       " \"'offline_government_id'\": 20906,\n",
       " \"'selfie'\": 13362,\n",
       " \"'identity_manual'\": 12284,\n",
       " \"'work_email'\": 6296,\n",
       " \"'manual_online'\": 307,\n",
       " \"'manual_offline'\": 611,\n",
       " \"'google'\": 3416,\n",
       " '': 7,\n",
       " \"'sent_id'\": 144,\n",
       " 'None': 16,\n",
       " \"'sesame'\": 42,\n",
       " \"'sesame_offline'\": 42,\n",
       " \"'photographer'\": 3,\n",
       " \"'zhima_selfie'\": 181,\n",
       " \"'weibo'\": 78}"
      ]
     },
     "execution_count": 4,
     "metadata": {},
     "output_type": "execute_result"
    }
   ],
   "source": [
    "d={}\n",
    "count=0\n",
    "for i in range(len(df_list)):\n",
    "    a=df_list[\"host_verifications\"][i].strip(\"[\").strip(\"]\").replace(' ', '').split(\",\")\n",
    "    for j in range(len(a)):\n",
    "        if a[j] in d:\n",
    "            d[a[j]]+=1\n",
    "        else:\n",
    "            d[a[j]]=1\n",
    "    count+=len(a)\n",
    "\n",
    "len(d)\n",
    "d"
   ]
  },
  {
   "cell_type": "markdown",
   "metadata": {},
   "source": [
    "### Question 5: What are the five most popular verification types of hosts? For each type of the top five verifications, how many percent of hosts verify that type?\n",
    "**Question 5 Answer:**\n",
    "the five most popular verification types are phone with 18.21%, email with 17.18%, reviews with 13.35%, government_id with 11.68%, offline_government_id with 8.48%."
   ]
  },
  {
   "cell_type": "code",
   "execution_count": 5,
   "metadata": {
    "scrolled": true
   },
   "outputs": [
    {
     "data": {
      "text/plain": [
       "[(\"'phone'\", 0.1821),\n",
       " (\"'email'\", 0.1718),\n",
       " (\"'reviews'\", 0.1335),\n",
       " (\"'government_id'\", 0.1168),\n",
       " (\"'offline_government_id'\", 0.0848),\n",
       " (\"'jumio'\", 0.0839),\n",
       " (\"'selfie'\", 0.0542),\n",
       " (\"'identity_manual'\", 0.0498),\n",
       " (\"'kba'\", 0.0437),\n",
       " (\"'facebook'\", 0.0342),\n",
       " (\"'work_email'\", 0.0255),\n",
       " (\"'google'\", 0.0139),\n",
       " (\"'manual_offline'\", 0.0025),\n",
       " (\"'manual_online'\", 0.0012),\n",
       " (\"'zhima_selfie'\", 0.0007),\n",
       " (\"'sent_id'\", 0.0006),\n",
       " (\"'weibo'\", 0.0003),\n",
       " (\"'sesame'\", 0.0002),\n",
       " (\"'sesame_offline'\", 0.0002),\n",
       " ('None', 0.0001),\n",
       " ('', 0.0),\n",
       " (\"'photographer'\", 0.0)]"
      ]
     },
     "execution_count": 5,
     "metadata": {},
     "output_type": "execute_result"
    }
   ],
   "source": [
    "for name in d.keys():\n",
    "    precent=d[name]/count\n",
    "    d[name]=round(precent,4)\n",
    "\n",
    "sorted_d = sorted(d.items(), key=operator.itemgetter(1),reverse=True)\n",
    "sorted_d"
   ]
  },
  {
   "cell_type": "markdown",
   "metadata": {},
   "source": [
    "### Question 6: What is the mean, standard deviation of the average price of a listing in Los Angles from 01/01/2020 to 03/01/2020 (inclusive)? (For listings that are not available in this time, you should not count them in the average price.)\n",
    "\n",
    "**Question 6 Answer:**\n",
    "the mean, standard deviation of the average price of a listing in Los Angels are 254.7782 and 684.7550.\n"
   ]
  },
  {
   "cell_type": "code",
   "execution_count": 6,
   "metadata": {},
   "outputs": [
    {
     "name": "stderr",
     "output_type": "stream",
     "text": [
      "/Users/sherryguo/anaconda3/lib/python3.7/site-packages/ipykernel_launcher.py:12: SettingWithCopyWarning: \n",
      "A value is trying to be set on a copy of a slice from a DataFrame.\n",
      "Try using .loc[row_indexer,col_indexer] = value instead\n",
      "\n",
      "See the caveats in the documentation: http://pandas.pydata.org/pandas-docs/stable/indexing.html#indexing-view-versus-copy\n",
      "  if sys.path[0] == '':\n"
     ]
    },
    {
     "data": {
      "text/plain": [
       "mean    254.7782\n",
       "std     684.7550\n",
       "Name: price, dtype: float64"
      ]
     },
     "execution_count": 6,
     "metadata": {},
     "output_type": "execute_result"
    }
   ],
   "source": [
    "df_6a=df_cal.loc[(df_cal.date>='2020-01-01') & (df_cal.date<='2020-03-01') &\\\n",
    "                 (df_cal.available=='t'), :]\n",
    "\n",
    "\n",
    "def getmoney(price):\n",
    "    str_pri=str(price)\n",
    "    str_price=str_pri.replace(\",\",\"\").strip('$')\n",
    "    num_price=float(str_price)\n",
    "    return num_price\n",
    "\n",
    "\n",
    "df_6a['price']=df_6a.price.apply(getmoney)\n",
    "df_6=df_6a.groupby(by=['listing_id'])['price'].mean().agg([np.mean,np.std])\n",
    "round(df_6,4)"
   ]
  },
  {
   "cell_type": "markdown",
   "metadata": {},
   "source": [
    "### Question 7: For reviews that are written in Jan, 2016, what are the most popular ten words except stopping words? What about reviews written in March, 2017 and April, 2018?\n",
    "**Hint**: You need to use NTLK stopping words to find the stopping words in Python. You also need to remove punctuation and numbers\n",
    "\n",
    "**Question 7 Answer:**\n",
    "\n",
    "The top ten words in Jan 2016 is 'great': 5115, 'stay': 4447, 'place': 4097, 'clean': 2613, 'location': 2576, 'house': 2526, 'us': 2521, 'nice': 2318, 'would': 2264, 'host': 2230.\n",
    "\n",
    "The top ten words in Mar 2017 is 'great': 11709, 'place': 11118, 'stay': 9112, 'location': 5642, 'clean': 5237, 'nice': 4368, 'would': 4355, 'host': 4242, 'house': 3622, 'comfortable': 3614.\n",
    "\n",
    "The top ten words in Apr 2018 is 'great': 18787, 'place': 18654, 'stay': 14741, 'location': 9983, 'clean': 9031, 'would': 7263, 'nice': 6797, 'host': 6789, 'house': 5516, 'la': 5491.\n",
    "\n",
    "Assumption: only consider the english comments."
   ]
  },
  {
   "cell_type": "code",
   "execution_count": 7,
   "metadata": {
    "scrolled": true
   },
   "outputs": [],
   "source": [
    "def gettopword(date, df_review):\n",
    "    df_7a=df_review.loc[(df_review.date>=date[0]) & (df_review.date<=date[1]), :'comments']\n",
    "\n",
    "    for index, row in df_7a.iterrows():\n",
    "        l=row['comments']\n",
    "        if type(l) is str:\n",
    "            l=l.lower()\n",
    "            list1 = \"\".join(c for c in l if (c not in string.punctuation and not c.isdigit()))        \n",
    "            df_7a.loc[index,'comments']=list1\n",
    "        else:\n",
    "            df_7a.drop(index, axis=0, inplace=True)\n",
    "    df_7s=df_7a['comments'].apply(lambda x: [item for item in x.split(' ') if (item not in stop)])\n",
    "\n",
    "    wordcount={}\n",
    "    for row in df_7s:\n",
    "        for word in row:\n",
    "            try:\n",
    "                wordcount[word]+=1\n",
    "            except:\n",
    "                wordcount[word]=1\n",
    "\n",
    "    wordcount_s=dict(sorted(wordcount.items(), key=operator.itemgetter(1), reverse=True)[1:11])\n",
    "    return wordcount_s"
   ]
  },
  {
   "cell_type": "code",
   "execution_count": 8,
   "metadata": {},
   "outputs": [
    {
     "data": {
      "text/plain": [
       "{'great': 5374,\n",
       " 'stay': 4661,\n",
       " 'place': 4284,\n",
       " 'clean': 2719,\n",
       " 'location': 2694,\n",
       " 'house': 2642,\n",
       " 'us': 2631,\n",
       " 'nice': 2404,\n",
       " 'would': 2382,\n",
       " 'host': 2325}"
      ]
     },
     "execution_count": 8,
     "metadata": {},
     "output_type": "execute_result"
    }
   ],
   "source": [
    "wordcount1=gettopword(['2016-01-01','2016-01-31'], df_review)\n",
    "wordcount1"
   ]
  },
  {
   "cell_type": "code",
   "execution_count": 9,
   "metadata": {
    "scrolled": true
   },
   "outputs": [
    {
     "data": {
      "text/plain": [
       "{'great': 12169,\n",
       " 'place': 11528,\n",
       " 'stay': 9453,\n",
       " 'location': 5860,\n",
       " 'clean': 5444,\n",
       " 'nice': 4540,\n",
       " 'would': 4514,\n",
       " 'host': 4422,\n",
       " 'house': 3769,\n",
       " 'comfortable': 3756}"
      ]
     },
     "execution_count": 9,
     "metadata": {},
     "output_type": "execute_result"
    }
   ],
   "source": [
    "wordcount2=gettopword(['2017-03-01','2017-03-31'], df_review)\n",
    "wordcount2"
   ]
  },
  {
   "cell_type": "code",
   "execution_count": 10,
   "metadata": {},
   "outputs": [
    {
     "data": {
      "text/plain": [
       "{'great': 18787,\n",
       " 'place': 18654,\n",
       " 'stay': 14741,\n",
       " 'location': 9983,\n",
       " 'clean': 9031,\n",
       " 'would': 7263,\n",
       " 'nice': 6797,\n",
       " 'host': 6789,\n",
       " 'house': 5516,\n",
       " 'la': 5491}"
      ]
     },
     "execution_count": 10,
     "metadata": {},
     "output_type": "execute_result"
    }
   ],
   "source": [
    "wordcount3=gettopword(['2018-04-01','2018-04-31'], df_review)\n",
    "wordcount3"
   ]
  },
  {
   "cell_type": "markdown",
   "metadata": {},
   "source": [
    "### Question 8: Which five zipcode has the highest average listing price and has at least 30 listings (again only considering available dates) between 2020-01-01 to 2020-02-01 (inclusive)? What are these listing prices? What are the number of active listings and number of hosts in these top five zipcodes (a listing is active if it has at least one available date in the calendar data)?\n",
    "\n",
    "**Question 8 Answer:**\n",
    "the five zipcode is 90210, 90077, 93063, 90265, 90069, with the highest average listing price of 1963.557367, 1909.066130, 1567.562500, 1559.605010, 998.113153 respectively. The number of active listings are 278, 74, 2, 329, 423 and the number of hosts are 173, 48, 1, 221, 305."
   ]
  },
  {
   "cell_type": "code",
   "execution_count": 11,
   "metadata": {},
   "outputs": [
    {
     "name": "stderr",
     "output_type": "stream",
     "text": [
      "/Users/sherryguo/anaconda3/lib/python3.7/site-packages/ipykernel_launcher.py:3: SettingWithCopyWarning: \n",
      "A value is trying to be set on a copy of a slice from a DataFrame.\n",
      "Try using .loc[row_indexer,col_indexer] = value instead\n",
      "\n",
      "See the caveats in the documentation: http://pandas.pydata.org/pandas-docs/stable/indexing.html#indexing-view-versus-copy\n",
      "  This is separate from the ipykernel package so we can avoid doing imports until\n"
     ]
    },
    {
     "data": {
      "text/html": [
       "<div>\n",
       "<style scoped>\n",
       "    .dataframe tbody tr th:only-of-type {\n",
       "        vertical-align: middle;\n",
       "    }\n",
       "\n",
       "    .dataframe tbody tr th {\n",
       "        vertical-align: top;\n",
       "    }\n",
       "\n",
       "    .dataframe thead th {\n",
       "        text-align: right;\n",
       "    }\n",
       "</style>\n",
       "<table border=\"1\" class=\"dataframe\">\n",
       "  <thead>\n",
       "    <tr style=\"text-align: right;\">\n",
       "      <th></th>\n",
       "      <th>zipcode</th>\n",
       "      <th>avg_price2</th>\n",
       "      <th>listing_id_count</th>\n",
       "      <th>host_id_count</th>\n",
       "    </tr>\n",
       "  </thead>\n",
       "  <tbody>\n",
       "    <tr>\n",
       "      <th>0</th>\n",
       "      <td>90210</td>\n",
       "      <td>1963.557367</td>\n",
       "      <td>278</td>\n",
       "      <td>173</td>\n",
       "    </tr>\n",
       "    <tr>\n",
       "      <th>1</th>\n",
       "      <td>90077</td>\n",
       "      <td>1909.066130</td>\n",
       "      <td>74</td>\n",
       "      <td>48</td>\n",
       "    </tr>\n",
       "    <tr>\n",
       "      <th>2</th>\n",
       "      <td>93063</td>\n",
       "      <td>1567.562500</td>\n",
       "      <td>2</td>\n",
       "      <td>1</td>\n",
       "    </tr>\n",
       "    <tr>\n",
       "      <th>3</th>\n",
       "      <td>90265</td>\n",
       "      <td>1559.605010</td>\n",
       "      <td>329</td>\n",
       "      <td>221</td>\n",
       "    </tr>\n",
       "    <tr>\n",
       "      <th>4</th>\n",
       "      <td>90069</td>\n",
       "      <td>998.113153</td>\n",
       "      <td>423</td>\n",
       "      <td>305</td>\n",
       "    </tr>\n",
       "  </tbody>\n",
       "</table>\n",
       "</div>"
      ],
      "text/plain": [
       "  zipcode   avg_price2  listing_id_count  host_id_count\n",
       "0   90210  1963.557367               278            173\n",
       "1   90077  1909.066130                74             48\n",
       "2   93063  1567.562500                 2              1\n",
       "3   90265  1559.605010               329            221\n",
       "4   90069   998.113153               423            305"
      ]
     },
     "execution_count": 11,
     "metadata": {},
     "output_type": "execute_result"
    }
   ],
   "source": [
    "df_8a=df_cal.loc[(df_cal.date>='2020-01-01') & (df_cal.date<='2020-02-01') &\\\n",
    "                 (df_cal.available=='t'), :]\n",
    "df_8a[\"price2\"]=df_8a.price.apply(getmoney)\n",
    "df_8b=df_8a.merge(df_list,how = \"left\", left_on = \"listing_id\", right_on=\"id\").\\\n",
    "                  loc[:,[\"listing_id\",\"price2\",\"zipcode\",\"host_id\"]]\n",
    "df_8c=df_8b.groupby(by=['zipcode']).filter(lambda x:x['listing_id'].count()>=30)\n",
    "df_8d=sqldf('SELECT zipcode, AVG(price2) AS avg_price2, COUNT(DISTINCT listing_id) AS listing_id_count, \\\n",
    "             COUNT(DISTINCT host_id) AS host_id_count FROM df_8c GROUP BY zipcode ORDER BY avg_price2 DESC\\\n",
    "             LIMIT 5')\n",
    "df_8d.head()"
   ]
  },
  {
   "cell_type": "markdown",
   "metadata": {},
   "source": [
    "### Question 9: Focusing on the data from 2020-01-01 to 2020-04-01 (inclusive), what are five zipcodes that have at least 30 listings and have the largest absolute difference between the average prices on weekends versus the average prices on weekdays? (Weekends = Saturday and Sunday). Please give the zipcodes as well as the listing prices\n",
    "**Question 9 Answer:**\n",
    "the five zipcodes are 91001, 91105, 93063, 90210, 90305."
   ]
  },
  {
   "cell_type": "code",
   "execution_count": 12,
   "metadata": {},
   "outputs": [
    {
     "name": "stderr",
     "output_type": "stream",
     "text": [
      "/Users/sherryguo/anaconda3/lib/python3.7/site-packages/ipykernel_launcher.py:8: SettingWithCopyWarning: \n",
      "A value is trying to be set on a copy of a slice from a DataFrame.\n",
      "Try using .loc[row_indexer,col_indexer] = value instead\n",
      "\n",
      "See the caveats in the documentation: http://pandas.pydata.org/pandas-docs/stable/indexing.html#indexing-view-versus-copy\n",
      "  \n",
      "/Users/sherryguo/anaconda3/lib/python3.7/site-packages/ipykernel_launcher.py:9: SettingWithCopyWarning: \n",
      "A value is trying to be set on a copy of a slice from a DataFrame.\n",
      "Try using .loc[row_indexer,col_indexer] = value instead\n",
      "\n",
      "See the caveats in the documentation: http://pandas.pydata.org/pandas-docs/stable/indexing.html#indexing-view-versus-copy\n",
      "  if __name__ == '__main__':\n",
      "/Users/sherryguo/anaconda3/lib/python3.7/site-packages/ipykernel_launcher.py:10: SettingWithCopyWarning: \n",
      "A value is trying to be set on a copy of a slice from a DataFrame.\n",
      "Try using .loc[row_indexer,col_indexer] = value instead\n",
      "\n",
      "See the caveats in the documentation: http://pandas.pydata.org/pandas-docs/stable/indexing.html#indexing-view-versus-copy\n",
      "  # Remove the CWD from sys.path while we load stuff.\n",
      "/Users/sherryguo/anaconda3/lib/python3.7/site-packages/ipykernel_launcher.py:15: FutureWarning: using a dict on a Series for aggregation\n",
      "is deprecated and will be removed in a future version\n",
      "  from ipykernel import kernelapp as app\n",
      "/Users/sherryguo/anaconda3/lib/python3.7/site-packages/ipykernel_launcher.py:17: FutureWarning: using a dict on a Series for aggregation\n",
      "is deprecated and will be removed in a future version\n"
     ]
    },
    {
     "data": {
      "text/html": [
       "<div>\n",
       "<style scoped>\n",
       "    .dataframe tbody tr th:only-of-type {\n",
       "        vertical-align: middle;\n",
       "    }\n",
       "\n",
       "    .dataframe tbody tr th {\n",
       "        vertical-align: top;\n",
       "    }\n",
       "\n",
       "    .dataframe thead th {\n",
       "        text-align: right;\n",
       "    }\n",
       "</style>\n",
       "<table border=\"1\" class=\"dataframe\">\n",
       "  <thead>\n",
       "    <tr style=\"text-align: right;\">\n",
       "      <th></th>\n",
       "      <th>price2_x</th>\n",
       "      <th>price2_y</th>\n",
       "      <th>max_abs_dif</th>\n",
       "    </tr>\n",
       "    <tr>\n",
       "      <th>zipcode</th>\n",
       "      <th></th>\n",
       "      <th></th>\n",
       "      <th></th>\n",
       "    </tr>\n",
       "  </thead>\n",
       "  <tbody>\n",
       "    <tr>\n",
       "      <th>91001</th>\n",
       "      <td>487.0</td>\n",
       "      <td>187.0</td>\n",
       "      <td>300.0</td>\n",
       "    </tr>\n",
       "    <tr>\n",
       "      <th>91105</th>\n",
       "      <td>365.0</td>\n",
       "      <td>125.0</td>\n",
       "      <td>240.0</td>\n",
       "    </tr>\n",
       "    <tr>\n",
       "      <th>93063</th>\n",
       "      <td>3700.0</td>\n",
       "      <td>3509.0</td>\n",
       "      <td>191.0</td>\n",
       "    </tr>\n",
       "    <tr>\n",
       "      <th>90210</th>\n",
       "      <td>1735.0</td>\n",
       "      <td>1567.0</td>\n",
       "      <td>168.0</td>\n",
       "    </tr>\n",
       "    <tr>\n",
       "      <th>90305</th>\n",
       "      <td>209.0</td>\n",
       "      <td>75.0</td>\n",
       "      <td>134.0</td>\n",
       "    </tr>\n",
       "  </tbody>\n",
       "</table>\n",
       "</div>"
      ],
      "text/plain": [
       "         price2_x  price2_y  max_abs_dif\n",
       "zipcode                                 \n",
       "91001       487.0     187.0        300.0\n",
       "91105       365.0     125.0        240.0\n",
       "93063      3700.0    3509.0        191.0\n",
       "90210      1735.0    1567.0        168.0\n",
       "90305       209.0      75.0        134.0"
      ]
     },
     "execution_count": 12,
     "metadata": {},
     "output_type": "execute_result"
    }
   ],
   "source": [
    "def dow(date):\n",
    "    year, month, day = (int(x) for x in date.split('-'))  \n",
    "    ans = datetime.date(year, month, day)\n",
    "    return ans.strftime(\"%A\")\n",
    "\n",
    "df_9a=df_cal.loc[(df_cal.date>='2020-01-01') & (df_cal.date<='2020-04-01') &\\\n",
    "                 (df_cal.available=='t'), :]\n",
    "df_9a[\"dayofweek\"] = df_9a.date.apply(dow)\n",
    "df_9a[\"weekday\"] = df_9a[\"dayofweek\"].apply(lambda x:\"Weekend\"if x[0]== \"S\" else (\"Weekday\"))\n",
    "df_9a[\"price2\"]=df_9a.price.apply(getmoney)\n",
    "df_9b=df_9a.merge(df_list,how = \"left\", left_on = \"listing_id\", right_on=\"id\")\\\n",
    "                  .loc[:,[\"date\",\"dayofweek\",\"weekday\",\"listing_id\",\"price2\",\"zipcode\",\"host_id\"]]\n",
    "df_9c=df_9b.groupby(by=['zipcode']).filter(lambda x:x['listing_id'].count()>=30)\n",
    "df_9d=sqldf(\"SELECT * FROM df_9c WHERE weekday='Weekday' GROUP BY zipcode\")\n",
    "df_9d=df_9d.groupby(by=[\"zipcode\"])['price2'].agg({\"price2\":np.mean}).sort_values(by=[\"price2\"],ascending=False)\n",
    "df_9e=sqldf(\"SELECT * FROM df_9c WHERE weekday='Weekend' GROUP BY zipcode\")\n",
    "df_9e=df_9e.groupby(by=[\"zipcode\"])['price2'].agg({\"price2\":np.mean}).sort_values(by=[\"price2\"],ascending=False)\n",
    "df_9f=df_9d.merge(df_9e,how = \"outer\", left_on = \"zipcode\", right_on=\"zipcode\")\n",
    "df_9f[\"max_abs_dif\"]=df_9f[\"price2_x\"]-df_9f[\"price2_y\"]\n",
    "df_9f.sort_values(by=[\"max_abs_dif\"],ascending=False).head()"
   ]
  },
  {
   "cell_type": "markdown",
   "metadata": {},
   "source": [
    "### Question 10: What is the average and standard deviation of the daily total capacity at Airbnb Los Angeles from 2020-01-01 to 2020-04-01? The daily total capacity in a day is the number of beds that are available in that given date. What is the average and standard deviation of the daily price per bed at Airbnb Los Angeles from 2020-01-01 to 2020-04-01?\n",
    "**Question 10 Answer:**\n",
    "the average and standard deviation of the daily total capacity is 47091.648, 4921.138, while the average and standard deviation of the daily price per bed is 124.060, 5.634.\n",
    "Assumption: our data included 2020-01-01 while not included 2020-04-01. \n",
    "Beacuse we are trying to calculate the average and standard deviation of the daily total capacity, it is meaningless to include Na. So we choose inner join rather than outter join. \n"
   ]
  },
  {
   "cell_type": "code",
   "execution_count": 13,
   "metadata": {},
   "outputs": [],
   "source": [
    "ava_df_cal=df_cal.loc[(df_cal.date>=\"2020-01-01\") & (df_cal.date<\"2020-04-01\")&\\\n",
    "            (df_cal.available=='t'), [\"listing_id\", \"date\", \"price\"]]\n",
    "df_10a=df_list[['id','beds']].merge(ava_df_cal, how='inner', left_on='id', right_on='listing_id')\n",
    "\n",
    "def getmoney(price):\n",
    "    str_pri=str(price)\n",
    "    str_price=str_pri.replace(\",\",\"\").strip('$')\n",
    "    num_price=float(str_price)\n",
    "    return num_price\n",
    "\n",
    "df_10a['price']=df_10a.price.apply(getmoney)"
   ]
  },
  {
   "cell_type": "code",
   "execution_count": 14,
   "metadata": {},
   "outputs": [
    {
     "data": {
      "text/plain": [
       "(47091.64835164835, 4921.138764720635)"
      ]
     },
     "execution_count": 14,
     "metadata": {},
     "output_type": "execute_result"
    }
   ],
   "source": [
    "df_10b=df_10a.groupby(by='date').agg({'beds':np.sum, 'price': np.sum})\n",
    "df_10b.reset_index(inplace=True)\n",
    "df_10b.beds.mean(),df_10b.beds.std()"
   ]
  },
  {
   "cell_type": "code",
   "execution_count": 15,
   "metadata": {
    "scrolled": true
   },
   "outputs": [
    {
     "data": {
      "text/plain": [
       "(124.06037237364912, 5.6335888355340975)"
      ]
     },
     "execution_count": 15,
     "metadata": {},
     "output_type": "execute_result"
    }
   ],
   "source": [
    "df_10b['price_pre_bed']=df_10b.apply(lambda x: x['price']/x['beds'], axis=1)\n",
    "df_10b.price_pre_bed.mean(), df_10b.price_pre_bed.std()"
   ]
  },
  {
   "cell_type": "markdown",
   "metadata": {},
   "source": [
    "### Question 11: What is the daily occupancy at Airbnb Los Angeles from 2019-09-01 to 2020-09-01? The daily occupancy is the percentage of listings which are not available in that day. What is the trend of daily occupancy in one year?"
   ]
  },
  {
   "cell_type": "code",
   "execution_count": 16,
   "metadata": {
    "scrolled": false
   },
   "outputs": [],
   "source": [
    "# Your code to answer Question 1\n",
    "#create a new database with target date and convert available data into numerical data\n",
    "df_cal1=df_cal.loc[(df_cal.date>=\"2019-09-01\") & (df_cal.date<=\"2020-09-01\"), \\\n",
    "                   [\"listing_id\", \"date\", \"available\",\"price\"]]\n",
    "\n",
    "df_cal1['available_num']=df_cal1.available.apply(lambda x: 1 if x=='t' else 0)"
   ]
  },
  {
   "cell_type": "code",
   "execution_count": 17,
   "metadata": {},
   "outputs": [
    {
     "data": {
      "text/html": [
       "<div>\n",
       "<style scoped>\n",
       "    .dataframe tbody tr th:only-of-type {\n",
       "        vertical-align: middle;\n",
       "    }\n",
       "\n",
       "    .dataframe tbody tr th {\n",
       "        vertical-align: top;\n",
       "    }\n",
       "\n",
       "    .dataframe thead th {\n",
       "        text-align: right;\n",
       "    }\n",
       "</style>\n",
       "<table border=\"1\" class=\"dataframe\">\n",
       "  <thead>\n",
       "    <tr style=\"text-align: right;\">\n",
       "      <th></th>\n",
       "      <th>date</th>\n",
       "      <th>total_list</th>\n",
       "      <th>total_available</th>\n",
       "      <th>Occupancy</th>\n",
       "    </tr>\n",
       "  </thead>\n",
       "  <tbody>\n",
       "    <tr>\n",
       "      <th>0</th>\n",
       "      <td>2019-09-14</td>\n",
       "      <td>45053</td>\n",
       "      <td>5516</td>\n",
       "      <td>0.122434</td>\n",
       "    </tr>\n",
       "    <tr>\n",
       "      <th>1</th>\n",
       "      <td>2019-09-15</td>\n",
       "      <td>45053</td>\n",
       "      <td>11558</td>\n",
       "      <td>0.256542</td>\n",
       "    </tr>\n",
       "    <tr>\n",
       "      <th>2</th>\n",
       "      <td>2019-09-16</td>\n",
       "      <td>45053</td>\n",
       "      <td>14748</td>\n",
       "      <td>0.327348</td>\n",
       "    </tr>\n",
       "    <tr>\n",
       "      <th>3</th>\n",
       "      <td>2019-09-17</td>\n",
       "      <td>45053</td>\n",
       "      <td>15816</td>\n",
       "      <td>0.351053</td>\n",
       "    </tr>\n",
       "    <tr>\n",
       "      <th>4</th>\n",
       "      <td>2019-09-18</td>\n",
       "      <td>45053</td>\n",
       "      <td>15935</td>\n",
       "      <td>0.353695</td>\n",
       "    </tr>\n",
       "  </tbody>\n",
       "</table>\n",
       "</div>"
      ],
      "text/plain": [
       "         date  total_list  total_available  Occupancy\n",
       "0  2019-09-14       45053             5516   0.122434\n",
       "1  2019-09-15       45053            11558   0.256542\n",
       "2  2019-09-16       45053            14748   0.327348\n",
       "3  2019-09-17       45053            15816   0.351053\n",
       "4  2019-09-18       45053            15935   0.353695"
      ]
     },
     "execution_count": 17,
     "metadata": {},
     "output_type": "execute_result"
    }
   ],
   "source": [
    "#calculate occupancy\n",
    "from pandasql import sqldf\n",
    "df_q1a=sqldf(\"SELECT date, COUNT(listing_id) AS total_list, SUM(available_num) AS total_available FROM df_cal1 GROUP BY date\")\n",
    "df_q1a[\"Occupancy\"]=df_q1a['total_available']/df_q1a[\"total_list\"]\n",
    "df_q1a.head()"
   ]
  },
  {
   "cell_type": "code",
   "execution_count": 18,
   "metadata": {
    "scrolled": true
   },
   "outputs": [
    {
     "data": {
      "text/plain": [
       "[Text(0, 0.5, 'Occupancy each day'),\n",
       " Text(0.5, 0, 'Date'),\n",
       " Text(0.5, 1.0, 'Trend of Occupancy')]"
      ]
     },
     "execution_count": 18,
     "metadata": {},
     "output_type": "execute_result"
    },
    {
     "data": {
      "image/png": "[encoded data removed]",
      "text/plain": [
       "<Figure size 504x360 with 1 Axes>"
      ]
     },
     "metadata": {},
     "output_type": "display_data"
    }
   ],
   "source": [
    "#plot result\n",
    "import matplotlib.pyplot as plt\n",
    "plt.style.use(\"ggplot\")\n",
    "fig, ax0=plt.subplots(nrows=1,ncols=1, figsize = (7,5))\n",
    "\n",
    "df_q1a.plot(kind=\"line\", x = \"date\", y = \"Occupancy\", color = 'b', label = \"Occupancy\",  ax = ax0 )\n",
    "ax0.set(title = \"Trend of Occupancy\", xlabel=\"Date\", ylabel=\"Occupancy each day\")"
   ]
  },
  {
   "cell_type": "markdown",
   "metadata": {},
   "source": [
    "### Question 12: What is daily average price at Airbnb Los Angeles from 2019-09-01 to 2020-09-01? What is the trend of daily average price in one year? Is there any relationship between daily occupancy, average price and total number of listings?"
   ]
  },
  {
   "cell_type": "code",
   "execution_count": 19,
   "metadata": {},
   "outputs": [
    {
     "data": {
      "text/html": [
       "<div>\n",
       "<style scoped>\n",
       "    .dataframe tbody tr th:only-of-type {\n",
       "        vertical-align: middle;\n",
       "    }\n",
       "\n",
       "    .dataframe tbody tr th {\n",
       "        vertical-align: top;\n",
       "    }\n",
       "\n",
       "    .dataframe thead th {\n",
       "        text-align: right;\n",
       "    }\n",
       "</style>\n",
       "<table border=\"1\" class=\"dataframe\">\n",
       "  <thead>\n",
       "    <tr style=\"text-align: right;\">\n",
       "      <th></th>\n",
       "    </tr>\n",
       "  </thead>\n",
       "  <tbody>\n",
       "  </tbody>\n",
       "</table>\n",
       "</div>"
      ],
      "text/plain": [
       "Empty DataFrame\n",
       "Columns: []\n",
       "Index: []"
      ]
     },
     "execution_count": 19,
     "metadata": {},
     "output_type": "execute_result"
    }
   ],
   "source": [
    "#normalize price data\n",
    "def getmoney(price):\n",
    "    str_pri=str(price)\n",
    "    str_price=str_pri.replace(\",\",\"\").strip('$')\n",
    "    num_price=float(str_price)\n",
    "    return num_price\n",
    "\n",
    "df_cal1['price']=df_cal1.price.apply(getmoney)\n",
    "df_cal1.groupby(by='date').fillna({'price':df_cal1.price.mean()},inplace=True)\n"
   ]
  },
  {
   "cell_type": "code",
   "execution_count": 20,
   "metadata": {},
   "outputs": [
    {
     "data": {
      "text/html": [
       "<div>\n",
       "<style scoped>\n",
       "    .dataframe tbody tr th:only-of-type {\n",
       "        vertical-align: middle;\n",
       "    }\n",
       "\n",
       "    .dataframe tbody tr th {\n",
       "        vertical-align: top;\n",
       "    }\n",
       "\n",
       "    .dataframe thead th {\n",
       "        text-align: right;\n",
       "    }\n",
       "</style>\n",
       "<table border=\"1\" class=\"dataframe\">\n",
       "  <thead>\n",
       "    <tr style=\"text-align: right;\">\n",
       "      <th></th>\n",
       "      <th>date</th>\n",
       "      <th>avg_price</th>\n",
       "    </tr>\n",
       "  </thead>\n",
       "  <tbody>\n",
       "    <tr>\n",
       "      <th>0</th>\n",
       "      <td>2019-09-14</td>\n",
       "      <td>213.572475</td>\n",
       "    </tr>\n",
       "    <tr>\n",
       "      <th>1</th>\n",
       "      <td>2019-09-15</td>\n",
       "      <td>204.912608</td>\n",
       "    </tr>\n",
       "    <tr>\n",
       "      <th>2</th>\n",
       "      <td>2019-09-16</td>\n",
       "      <td>203.401287</td>\n",
       "    </tr>\n",
       "    <tr>\n",
       "      <th>3</th>\n",
       "      <td>2019-09-17</td>\n",
       "      <td>203.450877</td>\n",
       "    </tr>\n",
       "    <tr>\n",
       "      <th>4</th>\n",
       "      <td>2019-09-18</td>\n",
       "      <td>204.096426</td>\n",
       "    </tr>\n",
       "  </tbody>\n",
       "</table>\n",
       "</div>"
      ],
      "text/plain": [
       "         date   avg_price\n",
       "0  2019-09-14  213.572475\n",
       "1  2019-09-15  204.912608\n",
       "2  2019-09-16  203.401287\n",
       "3  2019-09-17  203.450877\n",
       "4  2019-09-18  204.096426"
      ]
     },
     "execution_count": 20,
     "metadata": {},
     "output_type": "execute_result"
    }
   ],
   "source": [
    "#calculate daily price\n",
    "df_q2a=sqldf(\"SELECT date, AVG(price) AS avg_price FROM df_cal1 GROUP BY date\")\n",
    "df_q2a.head()"
   ]
  },
  {
   "cell_type": "code",
   "execution_count": 21,
   "metadata": {},
   "outputs": [
    {
     "data": {
      "text/plain": [
       "[Text(0, 0.5, 'Average price each day'),\n",
       " Text(0.5, 0, 'Date'),\n",
       " Text(0.5, 1.0, 'Trend of Price')]"
      ]
     },
     "execution_count": 21,
     "metadata": {},
     "output_type": "execute_result"
    },
    {
     "data": {
      "image/png": "[encoded data removed]",
      "text/plain": [
       "<Figure size 504x360 with 1 Axes>"
      ]
     },
     "metadata": {},
     "output_type": "display_data"
    }
   ],
   "source": [
    "#plot the result\n",
    "fig2, ax1=plt.subplots(nrows=1,ncols=1, figsize = (7,5))\n",
    "df_q2a.plot(kind=\"line\", x = \"date\", y = \"avg_price\", color = 'g', label = \"avg_price\",  ax = ax1 )\n",
    "ax1.set(title = \"Trend of Price\", xlabel=\"Date\", ylabel=\"Average price each day\")"
   ]
  },
  {
   "cell_type": "markdown",
   "metadata": {},
   "source": [
    "### Question 13: What are the duration and average price per night of each listing at Airbnb Los Angeles from 2019-09-01 to 2020-09-01? The duration is the number of nights booked per year of a listing. In other words, does the number of nights booked per year make it impossible for a listing to be used for residentail housing? What about the duration and average price of each neighborhood in Los Angeles? Is there any relationship between the duration and average price per night for a neighborhood?"
   ]
  },
  {
   "cell_type": "code",
   "execution_count": 22,
   "metadata": {},
   "outputs": [
    {
     "data": {
      "text/html": [
       "<div>\n",
       "<style scoped>\n",
       "    .dataframe tbody tr th:only-of-type {\n",
       "        vertical-align: middle;\n",
       "    }\n",
       "\n",
       "    .dataframe tbody tr th {\n",
       "        vertical-align: top;\n",
       "    }\n",
       "\n",
       "    .dataframe thead th {\n",
       "        text-align: right;\n",
       "    }\n",
       "</style>\n",
       "<table border=\"1\" class=\"dataframe\">\n",
       "  <thead>\n",
       "    <tr style=\"text-align: right;\">\n",
       "      <th></th>\n",
       "      <th>listing_id</th>\n",
       "      <th>Duration</th>\n",
       "      <th>Avg_Price</th>\n",
       "    </tr>\n",
       "  </thead>\n",
       "  <tbody>\n",
       "    <tr>\n",
       "      <th>0</th>\n",
       "      <td>109</td>\n",
       "      <td>154</td>\n",
       "      <td>122.000000</td>\n",
       "    </tr>\n",
       "    <tr>\n",
       "      <th>1</th>\n",
       "      <td>344</td>\n",
       "      <td>80</td>\n",
       "      <td>156.250000</td>\n",
       "    </tr>\n",
       "    <tr>\n",
       "      <th>2</th>\n",
       "      <td>2708</td>\n",
       "      <td>265</td>\n",
       "      <td>51.958491</td>\n",
       "    </tr>\n",
       "    <tr>\n",
       "      <th>3</th>\n",
       "      <td>2732</td>\n",
       "      <td>335</td>\n",
       "      <td>140.000000</td>\n",
       "    </tr>\n",
       "    <tr>\n",
       "      <th>4</th>\n",
       "      <td>5728</td>\n",
       "      <td>95</td>\n",
       "      <td>69.631579</td>\n",
       "    </tr>\n",
       "  </tbody>\n",
       "</table>\n",
       "</div>"
      ],
      "text/plain": [
       "   listing_id  Duration   Avg_Price\n",
       "0         109       154  122.000000\n",
       "1         344        80  156.250000\n",
       "2        2708       265   51.958491\n",
       "3        2732       335  140.000000\n",
       "4        5728        95   69.631579"
      ]
     },
     "execution_count": 22,
     "metadata": {},
     "output_type": "execute_result"
    }
   ],
   "source": [
    "# Your code to answer Question 3\n",
    "\n",
    "import numpy as np\n",
    "df_q3a=df_cal.loc[(df_cal.date>=\"2019-09-01\") & (df_cal.date<=\"2020-09-01\")&\\\n",
    "            (df_cal.available=='t'), [\"listing_id\", \"available\",\"price\"]]\n",
    "\n",
    "df_q3a['price']=df_q3a.price.apply(getmoney)\n",
    "df_q3b=sqldf(\"SELECT listing_id, COUNT(available) AS Duration, AVG(price) AS Avg_Price\\\n",
    "              FROM df_q3a GROUP BY listing_id\")\n",
    "df_q3b.head()"
   ]
  },
  {
   "cell_type": "code",
   "execution_count": 23,
   "metadata": {},
   "outputs": [],
   "source": [
    "df_q3c=df_q3b.merge(df_list[['id','neighbourhood']], how='left', left_on='listing_id', right_on='id')\n",
    "df_q3d=sqldf(\"SELECT neighbourhood, AVG(Duration) AS avg_Duration, AVG(Avg_Price) AS Avg_Price_N\\\n",
    "              FROM df_q3c GROUP BY neighbourhood ORDER BY AVG(Duration) DESC\")\n",
    "df_q3e=sqldf(\"SELECT neighbourhood, COUNT(DISTINCT id) AS total_list, AVG(Avg_Price) AS Avg_Price_N\\\n",
    "              FROM df_q3c GROUP BY neighbourhood ORDER BY total_list DESC\")"
   ]
  },
  {
   "cell_type": "code",
   "execution_count": 24,
   "metadata": {},
   "outputs": [
    {
     "data": {
      "text/plain": [
       "[Text(0, 0.5, 'Average Price'),\n",
       " Text(0.5, 0, 'Average Duration'),\n",
       " Text(0.5, 1.0, 'Listing Characters in Neighborhood')]"
      ]
     },
     "execution_count": 24,
     "metadata": {},
     "output_type": "execute_result"
    },
    {
     "data": {
      "image/png": "[encoded data removed]",
      "text/plain": [
       "<Figure size 504x360 with 1 Axes>"
      ]
     },
     "metadata": {},
     "output_type": "display_data"
    }
   ],
   "source": [
    "# plot the result\n",
    "fig3, ax3_0=plt.subplots(nrows=1,ncols=1, figsize = (7,5))\n",
    "\n",
    "df_q3d.plot(kind=\"scatter\", x = \"avg_Duration\", y = \"Avg_Price_N\", color = 'b',  ax = ax3_0 )\n",
    "ax3_0.set(title = \"Listing Characters in Neighborhood\", xlabel=\"Average Duration\", ylabel=\"Average Price\")"
   ]
  },
  {
   "cell_type": "code",
   "execution_count": 25,
   "metadata": {},
   "outputs": [
    {
     "data": {
      "text/plain": [
       "[Text(20.200000000000003, 0.5, 'Average Price'),\n",
       " Text(0.5, 20.200000000000003, 'Total List'),\n",
       " Text(0.5, 1, 'Listing Characters in Neighborhood')]"
      ]
     },
     "execution_count": 25,
     "metadata": {},
     "output_type": "execute_result"
    },
    {
     "data": {
      "image/png": "[encoded data removed]",
      "text/plain": [
       "<Figure size 504x360 with 1 Axes>"
      ]
     },
     "metadata": {},
     "output_type": "display_data"
    }
   ],
   "source": [
    "# plot the result\n",
    "fig3, ax3_1=plt.subplots(nrows=1,ncols=1, figsize = (7,5))\n",
    "\n",
    "df_q3e.plot(kind=\"scatter\", x = \"total_list\", y = \"Avg_Price_N\", color = 'b',  ax = ax3_1 )\n",
    "ax3_0.set(title = \"Listing Characters in Neighborhood\", xlabel=\"Total List\", ylabel=\"Average Price\")"
   ]
  },
  {
   "cell_type": "code",
   "execution_count": 26,
   "metadata": {
    "scrolled": true
   },
   "outputs": [
    {
     "data": {
      "text/plain": [
       "[Text(0, 0.5, 'Total List'),\n",
       " Text(0.5, 0, 'Average Duration'),\n",
       " Text(0.5, 1.0, 'Listing Characters in Neighborhood')]"
      ]
     },
     "execution_count": 26,
     "metadata": {},
     "output_type": "execute_result"
    },
    {
     "data": {
      "image/png": "[encoded data removed]",
      "text/plain": [
       "<Figure size 504x360 with 1 Axes>"
      ]
     },
     "metadata": {},
     "output_type": "display_data"
    }
   ],
   "source": [
    "# plot the result\n",
    "df_q3f=df_q3d.merge(df_q3e, how='inner', left_on='neighbourhood', right_on='neighbourhood')\n",
    "fig3, ax3_2=plt.subplots(nrows=1,ncols=1, figsize = (7,5))\n",
    "\n",
    "df_q3f.plot(kind=\"scatter\", x = \"avg_Duration\", y = \"total_list\", color = 'b',  ax = ax3_2 )\n",
    "ax3_2.set(title = \"Listing Characters in Neighborhood\", xlabel=\"Average Duration\", ylabel=\"Total List\")"
   ]
  },
  {
   "cell_type": "markdown",
   "metadata": {},
   "source": [
    "### Question 14: Which five hosts has the highest score on purely positive words feedback from comments? \n",
    "Using the outside source from [Inquirer Basic Database](www.wjh.harvard.edu/~inquirer/inquirerbasic.xls) to analyze the positive and negative words from comments.\n",
    "\n",
    "Assumption: purely positive for each host are equal to total positive words minus total negative words for each host"
   ]
  },
  {
   "cell_type": "code",
   "execution_count": 27,
   "metadata": {},
   "outputs": [],
   "source": [
    "# Your code to answer Question 4\n",
    "# convert the database into a dictionary that include positive and negative words\n",
    "dics = pd.read_excel('http://www.wjh.harvard.edu/~inquirer/inquirerbasic.xls',\n",
    "                     dtype={'Entry':'str'})\n",
    "\n",
    "df_q4a = dics[['Entry', 'Positiv', 'Negativ']].dropna(subset=['Positiv', 'Negativ'], how='all')\n",
    "df_q4a['tag'] = 1\n",
    "df_q4a.loc[(df_q4a['Negativ']=='Negativ'), 'tag'] = -1\n",
    "df_q4a.drop(['Positiv', 'Negativ'], axis=1, inplace=True)\n",
    "df_q4a[df_q4a['Entry'].str.contains(r'#')]\n",
    "df_q4a['Entry'] = df_q4a['Entry'].str.replace(r'#\\d+', '')\n",
    "df_q4a = df_q4a.drop_duplicates()\n",
    "cnts = df_q4a['Entry'].value_counts()\n",
    "df_q4a[df_q4a['Entry'].isin(cnts[cnts==1].index)]\n",
    "df_q4a['Entry'] = df_q4a['Entry'].str.lower()\n",
    "df_q4a = df_q4a.set_index('Entry').squeeze()\n",
    "df_q4a = df_q4a.to_dict()"
   ]
  },
  {
   "cell_type": "code",
   "execution_count": 28,
   "metadata": {},
   "outputs": [],
   "source": [
    "# create a clean comment list\n",
    "def clean_comment(row):\n",
    "    import string\n",
    "    list2=[]\n",
    "    l=row['comments']\n",
    "    if type(l) is str:\n",
    "        l=l.lower()\n",
    "        list2 = \"\".join(c for c in l if (c not in string.punctuation and not c.isdigit()))        \n",
    "    return list2\n",
    "\n",
    "# count positive and negative words for each comment\n",
    "def score(s, dic=df_q4a):\n",
    "    negcnt, poscnt = 0, 0\n",
    "    words = s['new_review'].split()\n",
    "    for w in words:\n",
    "        if dic.get(w,0) == 1:\n",
    "            poscnt += 1\n",
    "        elif dic.get(w,0) == -1:\n",
    "            negcnt += 1\n",
    "    return poscnt, negcnt, len(words)"
   ]
  },
  {
   "cell_type": "code",
   "execution_count": 29,
   "metadata": {},
   "outputs": [],
   "source": [
    "# using the purely positive score and rank the top 5 host\n",
    "df_q4c=df_review.loc[:,[\"listing_id\"]]\n",
    "df_q4c[\"new_review\"]=df_review.apply(clean_comment,axis=1)\n",
    "df_q4d = df_q4c[df_q4c['new_review'].map(lambda x: len(x)) > 0]\n",
    "df_q4d = df_q4d.apply(score,axis=1)\n",
    "df_q4c['positive']=df_q4d.apply(lambda x: x[0])\n",
    "df_q4c['negative']=df_q4d.apply(lambda x: x[1])\n",
    "df_q4c['score']=df_q4c['positive']-df_q4c['negative']\n",
    "df_q4d=df_q4c.groupby(by=['listing_id'])['score'].agg([np.sum])\n",
    "df_q4e=df_q4d.sort_values(by=[\"sum\"],ascending=False)\n",
    "df_q4e=df_q4e.reset_index()\n",
    "df_q4f=df_q4e.head(5)"
   ]
  },
  {
   "cell_type": "code",
   "execution_count": 30,
   "metadata": {},
   "outputs": [
    {
     "data": {
      "text/plain": [
       "(3000, 4500)"
      ]
     },
     "execution_count": 30,
     "metadata": {},
     "output_type": "execute_result"
    },
    {
     "data": {
      "image/png": "[encoded data removed]",
      "text/plain": [
       "<Figure size 432x432 with 1 Axes>"
      ]
     },
     "metadata": {},
     "output_type": "display_data"
    }
   ],
   "source": [
    "# develop a graph to illustrate the top 5 host ID with the most purely positive words\n",
    "fig,ax0 = plt.subplots(figsize=(6,6))\n",
    "fig.suptitle(\"Top 5 Hosts with Most Positive Review Words\")\n",
    "\n",
    "df_q4f.plot(kind=\"barh\",x=\"listing_id\",y=\"sum\",color=\"r\",ax=ax0) \n",
    "ax0.set(xlabel = \"Number of Positive Words\",ylabel=\"Host ID\")\n",
    "ax0.set_xlim([3000,4500])"
   ]
  },
  {
   "cell_type": "markdown",
   "metadata": {},
   "source": [
    "### Question 15: What is the correlation between purely positive words in comments with the review scores value on the database? In other words, is there any relationship between the words in comments and the review scores they received? Could positive words be an reason to explain the review scores value?"
   ]
  },
  {
   "cell_type": "code",
   "execution_count": 31,
   "metadata": {},
   "outputs": [
    {
     "data": {
      "text/html": [
       "<div>\n",
       "<style scoped>\n",
       "    .dataframe tbody tr th:only-of-type {\n",
       "        vertical-align: middle;\n",
       "    }\n",
       "\n",
       "    .dataframe tbody tr th {\n",
       "        vertical-align: top;\n",
       "    }\n",
       "\n",
       "    .dataframe thead th {\n",
       "        text-align: right;\n",
       "    }\n",
       "</style>\n",
       "<table border=\"1\" class=\"dataframe\">\n",
       "  <thead>\n",
       "    <tr style=\"text-align: right;\">\n",
       "      <th></th>\n",
       "      <th>neighbourhood</th>\n",
       "      <th>mean_x</th>\n",
       "      <th>Rank1</th>\n",
       "      <th>mean_y</th>\n",
       "      <th>Rank2</th>\n",
       "    </tr>\n",
       "  </thead>\n",
       "  <tbody>\n",
       "    <tr>\n",
       "      <th>0</th>\n",
       "      <td>Vernon</td>\n",
       "      <td>100.00</td>\n",
       "      <td>2.0</td>\n",
       "      <td>7.250000</td>\n",
       "      <td>162.0</td>\n",
       "    </tr>\n",
       "    <tr>\n",
       "      <th>1</th>\n",
       "      <td>Bradbury</td>\n",
       "      <td>100.00</td>\n",
       "      <td>2.0</td>\n",
       "      <td>13.000000</td>\n",
       "      <td>161.0</td>\n",
       "    </tr>\n",
       "    <tr>\n",
       "      <th>2</th>\n",
       "      <td>Bell Gardens</td>\n",
       "      <td>100.00</td>\n",
       "      <td>2.0</td>\n",
       "      <td>13.333333</td>\n",
       "      <td>160.0</td>\n",
       "    </tr>\n",
       "    <tr>\n",
       "      <th>3</th>\n",
       "      <td>Irwindale</td>\n",
       "      <td>99.60</td>\n",
       "      <td>4.0</td>\n",
       "      <td>157.400000</td>\n",
       "      <td>47.0</td>\n",
       "    </tr>\n",
       "    <tr>\n",
       "      <th>4</th>\n",
       "      <td>La Crescenta-Montrose</td>\n",
       "      <td>98.25</td>\n",
       "      <td>5.0</td>\n",
       "      <td>108.000000</td>\n",
       "      <td>104.0</td>\n",
       "    </tr>\n",
       "  </tbody>\n",
       "</table>\n",
       "</div>"
      ],
      "text/plain": [
       "           neighbourhood  mean_x  Rank1      mean_y  Rank2\n",
       "0                 Vernon  100.00    2.0    7.250000  162.0\n",
       "1               Bradbury  100.00    2.0   13.000000  161.0\n",
       "2           Bell Gardens  100.00    2.0   13.333333  160.0\n",
       "3              Irwindale   99.60    4.0  157.400000   47.0\n",
       "4  La Crescenta-Montrose   98.25    5.0  108.000000  104.0"
      ]
     },
     "execution_count": 31,
     "metadata": {},
     "output_type": "execute_result"
    }
   ],
   "source": [
    "df_q5a=df_list.merge(df_q4e,how = \"left\", left_on = \"id\", right_on=\"listing_id\").\\\n",
    "                     loc[:,['listing_id','review_scores_rating','review_scores_value','neighbourhood','sum']]\n",
    "df_q5b=df_q5a.groupby(by='neighbourhood')['review_scores_rating'].agg([np.mean])\n",
    "df_q5c=df_q5a.groupby(by='neighbourhood')['sum'].agg([np.mean])\n",
    "df_q5d=df_q5b.sort_values(by=[\"mean\"],ascending=False)\n",
    "df_q5e=df_q5c.sort_values(by=[\"mean\"],ascending=False)\n",
    "df_q5f=df_q5d.reset_index()\n",
    "df_q5f[\"Rank1\"] = df_q5f[\"mean\"].rank(ascending = 0) \n",
    "df_q5g=df_q5e.reset_index()\n",
    "df_q5g[\"Rank2\"] = df_q5g[\"mean\"].rank(ascending = 0) \n",
    "df_q5h=df_q5f.merge(df_q5g,how = \"inner\", left_on = \"neighbourhood\", right_on=\"neighbourhood\")\n",
    "df_q5h.head()"
   ]
  },
  {
   "cell_type": "code",
   "execution_count": 32,
   "metadata": {},
   "outputs": [
    {
     "data": {
      "text/html": [
       "<div>\n",
       "<style scoped>\n",
       "    .dataframe tbody tr th:only-of-type {\n",
       "        vertical-align: middle;\n",
       "    }\n",
       "\n",
       "    .dataframe tbody tr th {\n",
       "        vertical-align: top;\n",
       "    }\n",
       "\n",
       "    .dataframe thead th {\n",
       "        text-align: right;\n",
       "    }\n",
       "</style>\n",
       "<table border=\"1\" class=\"dataframe\">\n",
       "  <thead>\n",
       "    <tr style=\"text-align: right;\">\n",
       "      <th></th>\n",
       "      <th>Rank1</th>\n",
       "      <th>Rank2</th>\n",
       "    </tr>\n",
       "  </thead>\n",
       "  <tbody>\n",
       "    <tr>\n",
       "      <th>Rank1</th>\n",
       "      <td>1.000000</td>\n",
       "      <td>0.193793</td>\n",
       "    </tr>\n",
       "    <tr>\n",
       "      <th>Rank2</th>\n",
       "      <td>0.193793</td>\n",
       "      <td>1.000000</td>\n",
       "    </tr>\n",
       "  </tbody>\n",
       "</table>\n",
       "</div>"
      ],
      "text/plain": [
       "          Rank1     Rank2\n",
       "Rank1  1.000000  0.193793\n",
       "Rank2  0.193793  1.000000"
      ]
     },
     "execution_count": 32,
     "metadata": {},
     "output_type": "execute_result"
    }
   ],
   "source": [
    "df_q5h[['Rank1','Rank2']].corr()"
   ]
  },
  {
   "cell_type": "code",
   "execution_count": 33,
   "metadata": {
    "scrolled": true
   },
   "outputs": [
    {
     "data": {
      "text/plain": [
       "[Text(0, 0.5, 'Ranking'),\n",
       " Text(0.5, 0, 'Neighbourhood'),\n",
       " Text(0.5, 1.0, 'Positive Ranking by Neighbourhood')]"
      ]
     },
     "execution_count": 33,
     "metadata": {},
     "output_type": "execute_result"
    },
    {
     "data": {
      "image/png": "[encoded data removed]",
      "text/plain": [
       "<Figure size 504x720 with 2 Axes>"
      ]
     },
     "metadata": {},
     "output_type": "display_data"
    }
   ],
   "source": [
    "fig, (ax0,ax1)=plt.subplots(nrows=2,ncols=1, figsize = (7,10),sharey=True)\n",
    "df_q5h.plot(kind=\"line\", x = \"neighbourhood\", y = \"mean_x\", color = 'g', label = \"ranking by neighbourhood\", ax = ax0)\n",
    "ax0.set(title = \"Review Value Ranking by Neighbourhood\", xlabel=\"Neighbourhood\", ylabel=\"Ranking\")\n",
    "df_q5h.plot(kind=\"line\", x = \"neighbourhood\", y = \"mean_y\", color = 'r', label = \"ranking by neighbourhood\", ax = ax1 )\n",
    "ax1.set(title = \"Positive Ranking by Neighbourhood\", xlabel=\"Neighbourhood\", ylabel=\"Ranking\")"
   ]
  },
  {
   "cell_type": "markdown",
   "metadata": {},
   "source": [
    "## Executive Summary"
   ]
  },
  {
   "cell_type": "code",
   "execution_count": null,
   "metadata": {},
   "outputs": [],
   "source": []
  }
 ],
 "metadata": {
  "kernelspec": {
   "display_name": "Python 3",
   "language": "python",
   "name": "python3"
  },
  "language_info": {
   "codemirror_mode": {
    "name": "ipython",
    "version": 3
   },
   "file_extension": ".py",
   "mimetype": "text/x-python",
   "name": "python",
   "nbconvert_exporter": "python",
   "pygments_lexer": "ipython3",
   "version": "3.7.3"
  }
 },
 "nbformat": 4,
 "nbformat_minor": 2
}
