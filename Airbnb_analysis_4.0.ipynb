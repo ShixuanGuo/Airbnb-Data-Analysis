{
 "cells": [
  {
   "cell_type": "code",
   "execution_count": 1,
   "metadata": {
    "scrolled": true
   },
   "outputs": [
    {
     "name": "stderr",
     "output_type": "stream",
     "text": [
      "/Users/sherryguo/anaconda3/lib/python3.7/site-packages/statsmodels/tools/_testing.py:19: FutureWarning: pandas.util.testing is deprecated. Use the functions in the public API at pandas.testing instead.\n",
      "  import pandas.util.testing as tm\n"
     ]
    }
   ],
   "source": [
    "# Import necessary packages\n",
    "import pandas as pd\n",
    "import numpy as np\n",
    "import operator\n",
    "\n",
    "from nltk.corpus import stopwords\n",
    "stop = stopwords.words('english')\n",
    "\n",
    "import string\n",
    "from string import digits\n",
    "punctuation = string.punctuation\n",
    "\n",
    "from pandasql import sqldf\n",
    "\n",
    "import datetime as dt\n",
    "\n",
    "import matplotlib.pyplot as plt\n",
    "import matplotlib.dates as mdates\n",
    "from matplotlib.dates import DateFormatter\n",
    "import seaborn as sns"
   ]
  },
  {
   "cell_type": "markdown",
   "metadata": {},
   "source": [
    "# 1. Overview of database"
   ]
  },
  {
   "cell_type": "code",
   "execution_count": 2,
   "metadata": {
    "scrolled": true
   },
   "outputs": [
    {
     "name": "stderr",
     "output_type": "stream",
     "text": [
      "/Users/sherryguo/anaconda3/lib/python3.7/site-packages/IPython/core/interactiveshell.py:3057: DtypeWarning: Columns (61,62) have mixed types.Specify dtype option on import or set low_memory=False.\n",
      "  interactivity=interactivity, compiler=compiler, result=result)\n"
     ]
    }
   ],
   "source": [
    "#import data\n",
    "df_list=pd.read_csv('listings.csv')\n",
    "df_review=pd.read_csv('reviews.csv',parse_dates=['date'])\n",
    "df_cal=pd.read_csv('calendar.csv',parse_dates=['date'])"
   ]
  },
  {
   "cell_type": "code",
   "execution_count": 7,
   "metadata": {},
   "outputs": [
    {
     "data": {
      "text/html": [
       "<div>\n",
       "<style scoped>\n",
       "    .dataframe tbody tr th:only-of-type {\n",
       "        vertical-align: middle;\n",
       "    }\n",
       "\n",
       "    .dataframe tbody tr th {\n",
       "        vertical-align: top;\n",
       "    }\n",
       "\n",
       "    .dataframe thead th {\n",
       "        text-align: right;\n",
       "    }\n",
       "</style>\n",
       "<table border=\"1\" class=\"dataframe\">\n",
       "  <thead>\n",
       "    <tr style=\"text-align: right;\">\n",
       "      <th></th>\n",
       "      <th>listing_id</th>\n",
       "      <th>id</th>\n",
       "      <th>date</th>\n",
       "      <th>reviewer_id</th>\n",
       "      <th>reviewer_name</th>\n",
       "      <th>comments</th>\n",
       "    </tr>\n",
       "  </thead>\n",
       "  <tbody>\n",
       "    <tr>\n",
       "      <th>0</th>\n",
       "      <td>109</td>\n",
       "      <td>449036</td>\n",
       "      <td>2011-08-15</td>\n",
       "      <td>927861</td>\n",
       "      <td>Edwin</td>\n",
       "      <td>The host canceled my reservation the day befor...</td>\n",
       "    </tr>\n",
       "    <tr>\n",
       "      <th>1</th>\n",
       "      <td>109</td>\n",
       "      <td>74506539</td>\n",
       "      <td>2016-05-15</td>\n",
       "      <td>22509885</td>\n",
       "      <td>Jenn</td>\n",
       "      <td>Me and two friends stayed for four and a half ...</td>\n",
       "    </tr>\n",
       "    <tr>\n",
       "      <th>2</th>\n",
       "      <td>344</td>\n",
       "      <td>79805581</td>\n",
       "      <td>2016-06-14</td>\n",
       "      <td>2089550</td>\n",
       "      <td>Drew &amp; Katie</td>\n",
       "      <td>We really enjoyed our stay here in Burbank! Th...</td>\n",
       "    </tr>\n",
       "    <tr>\n",
       "      <th>3</th>\n",
       "      <td>344</td>\n",
       "      <td>120725697</td>\n",
       "      <td>2016-12-11</td>\n",
       "      <td>32602867</td>\n",
       "      <td>Christopher</td>\n",
       "      <td>I had a ton of fun learning to play Go with Fu...</td>\n",
       "    </tr>\n",
       "    <tr>\n",
       "      <th>4</th>\n",
       "      <td>344</td>\n",
       "      <td>123800867</td>\n",
       "      <td>2016-12-30</td>\n",
       "      <td>35822259</td>\n",
       "      <td>May</td>\n",
       "      <td>The host canceled this reservation the day bef...</td>\n",
       "    </tr>\n",
       "  </tbody>\n",
       "</table>\n",
       "</div>"
      ],
      "text/plain": [
       "   listing_id         id        date  reviewer_id reviewer_name  \\\n",
       "0         109     449036  2011-08-15       927861         Edwin   \n",
       "1         109   74506539  2016-05-15     22509885          Jenn   \n",
       "2         344   79805581  2016-06-14      2089550  Drew & Katie   \n",
       "3         344  120725697  2016-12-11     32602867   Christopher   \n",
       "4         344  123800867  2016-12-30     35822259           May   \n",
       "\n",
       "                                            comments  \n",
       "0  The host canceled my reservation the day befor...  \n",
       "1  Me and two friends stayed for four and a half ...  \n",
       "2  We really enjoyed our stay here in Burbank! Th...  \n",
       "3  I had a ton of fun learning to play Go with Fu...  \n",
       "4  The host canceled this reservation the day bef...  "
      ]
     },
     "execution_count": 7,
     "metadata": {},
     "output_type": "execute_result"
    }
   ],
   "source": [
    "df_review.head()"
   ]
  },
  {
   "cell_type": "markdown",
   "metadata": {},
   "source": [
    "## 1.1 Listing"
   ]
  },
  {
   "cell_type": "markdown",
   "metadata": {},
   "source": [
    "There are 45053 unique listings in LA. "
   ]
  },
  {
   "cell_type": "code",
   "execution_count": 3,
   "metadata": {},
   "outputs": [
    {
     "name": "stdout",
     "output_type": "stream",
     "text": [
      "45053\n"
     ]
    }
   ],
   "source": [
    "unique_listing=df_list.id.nunique()\n",
    "print(unique_listing)"
   ]
  },
  {
   "cell_type": "markdown",
   "metadata": {},
   "source": [
    "The recorded prices start from 2019-09-14 and end at 2020-09-12"
   ]
  },
  {
   "cell_type": "code",
   "execution_count": 14,
   "metadata": {},
   "outputs": [
    {
     "data": {
      "text/plain": [
       "('2020-09-12', '2019-09-14')"
      ]
     },
     "execution_count": 14,
     "metadata": {},
     "output_type": "execute_result"
    }
   ],
   "source": [
    "df_cal['date'].max(),df_cal['date'].min()"
   ]
  },
  {
   "cell_type": "markdown",
   "metadata": {},
   "source": [
    "## 1.2 Host"
   ]
  },
  {
   "cell_type": "markdown",
   "metadata": {},
   "source": [
    "There are 26286 unique hosts in LA in total."
   ]
  },
  {
   "cell_type": "code",
   "execution_count": 5,
   "metadata": {
    "scrolled": true
   },
   "outputs": [
    {
     "name": "stdout",
     "output_type": "stream",
     "text": [
      "26286\n"
     ]
    }
   ],
   "source": [
    "print(df_list.host_id.nunique())"
   ]
  },
  {
   "cell_type": "markdown",
   "metadata": {},
   "source": [
    "On average, each host has 12 listings.  \n",
    "The maximum and minimum number of listings per host is 29584 and 1.  \n",
    "The number of listings per host varies a lot. "
   ]
  },
  {
   "cell_type": "code",
   "execution_count": 6,
   "metadata": {},
   "outputs": [
    {
     "data": {
      "text/plain": [
       "mean         11.932397\n",
       "median        1.000000\n",
       "std         242.143721\n",
       "amin          1.000000\n",
       "amax      29584.000000\n",
       "Name: calculated_host_listings_count, dtype: float64"
      ]
     },
     "execution_count": 6,
     "metadata": {},
     "output_type": "execute_result"
    }
   ],
   "source": [
    "df_2=df_list.groupby(by=['host_id'])['calculated_host_listings_count'].sum()\n",
    "df_2a=df_2.agg([np.mean,np.median,np.std, np.min, np.max])\n",
    "df_2a"
   ]
  },
  {
   "cell_type": "markdown",
   "metadata": {},
   "source": [
    "## 1.3 Reviews"
   ]
  },
  {
   "cell_type": "markdown",
   "metadata": {},
   "source": [
    "There are 1509564 reviews in total."
   ]
  },
  {
   "cell_type": "code",
   "execution_count": 10,
   "metadata": {},
   "outputs": [
    {
     "data": {
      "text/plain": [
       "1509564"
      ]
     },
     "execution_count": 10,
     "metadata": {},
     "output_type": "execute_result"
    }
   ],
   "source": [
    "df_review.shape[0]"
   ]
  },
  {
   "cell_type": "code",
   "execution_count": null,
   "metadata": {},
   "outputs": [],
   "source": []
  },
  {
   "cell_type": "markdown",
   "metadata": {},
   "source": [
    "# 2. Analysis of Data Quality"
   ]
  },
  {
   "cell_type": "markdown",
   "metadata": {},
   "source": [
    "## 2.1 Key Features"
   ]
  },
  {
   "cell_type": "code",
   "execution_count": null,
   "metadata": {},
   "outputs": [],
   "source": [
    "# extract key columns we want to analysis\n",
    "list_columns=['listing_id','price','room_type','neighbourhood','beds'\n",
    "              'host_id','calculated_host_listings_count','host_is_superhost','host_verifications',\n",
    "              'number_of_reviews','reviews_per_month','review_scores_location', 'review_scores_cleanliness','review_scores_rating',\n",
    "              'zipcode','latitude','longitude']\n",
    "df_list=df_list[list_columns]"
   ]
  },
  {
   "cell_type": "markdown",
   "metadata": {},
   "source": [
    "## 2.2 Missing Data"
   ]
  },
  {
   "cell_type": "code",
   "execution_count": 4,
   "metadata": {},
   "outputs": [
    {
     "name": "stdout",
     "output_type": "stream",
     "text": [
      "45053 16444345 1509564\n"
     ]
    }
   ],
   "source": [
    "#find all missing data\n",
    "miss_listings = df_list.isnull()\n",
    "miss_cal=df_cal.isnull()\n",
    "miss_review=df_review.isnull()\n",
    "print(miss_listings.shape[0],miss_cal.shape[0],miss_review.shape[0])"
   ]
  },
  {
   "cell_type": "code",
   "execution_count": 5,
   "metadata": {},
   "outputs": [
    {
     "data": {
      "text/plain": [
       "id                                                 0\n",
       "listing_url                                        0\n",
       "scrape_id                                          0\n",
       "last_scraped                                       0\n",
       "name                                               6\n",
       "                                                ... \n",
       "calculated_host_listings_count                     0\n",
       "calculated_host_listings_count_entire_homes        0\n",
       "calculated_host_listings_count_private_rooms       0\n",
       "calculated_host_listings_count_shared_rooms        0\n",
       "reviews_per_month                               8519\n",
       "Length: 106, dtype: int64"
      ]
     },
     "execution_count": 5,
     "metadata": {},
     "output_type": "execute_result"
    }
   ],
   "source": [
    "miss_listings.sum()"
   ]
  },
  {
   "cell_type": "code",
   "execution_count": 6,
   "metadata": {},
   "outputs": [],
   "source": [
    "#remove all columns with more than 50% missing values\n",
    "miss_50=df_list.columns[miss_listings.sum()/len(df_list)>0.5]\n",
    "df_list=df_list.drop(miss_50,axis=1)\n",
    "\n",
    "#fill other missing values\n",
    "df_list.fillna(0,inplace=True)"
   ]
  },
  {
   "cell_type": "code",
   "execution_count": 24,
   "metadata": {},
   "outputs": [
    {
     "data": {
      "text/plain": [
       "Index(['thumbnail_url', 'medium_url', 'xl_picture_url', 'host_acceptance_rate',\n",
       "       'neighbourhood_group_cleansed', 'square_feet', 'weekly_price',\n",
       "       'monthly_price', 'license'],\n",
       "      dtype='object')"
      ]
     },
     "execution_count": 24,
     "metadata": {},
     "output_type": "execute_result"
    }
   ],
   "source": [
    "miss_50"
   ]
  },
  {
   "cell_type": "markdown",
   "metadata": {},
   "source": [
    "## 2.2 Data Transforming"
   ]
  },
  {
   "cell_type": "code",
   "execution_count": 7,
   "metadata": {},
   "outputs": [],
   "source": [
    "#price: in string format; transform into float values\n",
    "def getmoney(price):\n",
    "    str_pri=str(price)\n",
    "    str_price=str_pri.replace(\",\",\"\").strip('$')\n",
    "    num_price=float(str_price)\n",
    "    return num_price\n",
    "df_list['price']=df_list['price'].apply(getmoney)\n",
    "df_cal['price']=df_cal['price'].apply(getmoney)"
   ]
  },
  {
   "cell_type": "code",
   "execution_count": 41,
   "metadata": {},
   "outputs": [],
   "source": [
    "#comments: only select comments in English and normalize text\n",
    "for index, row in df_review.iterrows():\n",
    "        l=row['comments']\n",
    "        if type(l) is str:\n",
    "            l=l.lower()\n",
    "            list1 = \"\".join(c for c in l if (c not in string.punctuation and not c.isdigit()))        \n",
    "            df_7a.loc[index,'comments']=list1\n",
    "        else:\n",
    "            df_7a.drop(index, axis=0, inplace=True)\n",
    "    df_7s=df_7a['comments'].apply(lambda x: [item for item in x.split(' ') if (item not in stop)])"
   ]
  },
  {
   "cell_type": "code",
   "execution_count": null,
   "metadata": {},
   "outputs": [],
   "source": [
    "# Boolean types are replaced with a 0 or 1\n",
    "def repl_f_t(l):\n",
    "    l = l.replace('f', 0);\n",
    "    l = l.replace('t', 1);\n",
    "    return l"
   ]
  },
  {
   "cell_type": "code",
   "execution_count": 8,
   "metadata": {},
   "outputs": [],
   "source": [
    "#date\n",
    "df_cal['date']=df_cal['date'].dt.date\n",
    "df_review['date']=df_review['date'].dt.date"
   ]
  },
  {
   "cell_type": "markdown",
   "metadata": {},
   "source": [
    "# 3. Exploratory Data Analysis"
   ]
  },
  {
   "cell_type": "markdown",
   "metadata": {},
   "source": [
    "## 3.1 Spatial Data Analysis"
   ]
  },
  {
   "cell_type": "markdown",
   "metadata": {},
   "source": [
    "#### 2) Zipcode"
   ]
  },
  {
   "cell_type": "markdown",
   "metadata": {},
   "source": [
    "5 active zipcode with the highest average listing price and more than 30 listing are 90210, 90077, 93063, 90265, 90069. Their average listing price are 1963.557367, 1909.066130, 1567.562500, 1559.605010, 998.113153 respectively. The number of active listings are 278, 74, 2, 329, 423 and the number of hosts are 173, 48, 1, 221, 305. "
   ]
  },
  {
   "cell_type": "code",
   "execution_count": 11,
   "metadata": {},
   "outputs": [
    {
     "name": "stderr",
     "output_type": "stream",
     "text": [
      "/Users/sherryguo/anaconda3/lib/python3.7/site-packages/ipykernel_launcher.py:3: SettingWithCopyWarning: \n",
      "A value is trying to be set on a copy of a slice from a DataFrame.\n",
      "Try using .loc[row_indexer,col_indexer] = value instead\n",
      "\n",
      "See the caveats in the documentation: http://pandas.pydata.org/pandas-docs/stable/indexing.html#indexing-view-versus-copy\n",
      "  This is separate from the ipykernel package so we can avoid doing imports until\n"
     ]
    },
    {
     "data": {
      "text/html": [
       "<div>\n",
       "<style scoped>\n",
       "    .dataframe tbody tr th:only-of-type {\n",
       "        vertical-align: middle;\n",
       "    }\n",
       "\n",
       "    .dataframe tbody tr th {\n",
       "        vertical-align: top;\n",
       "    }\n",
       "\n",
       "    .dataframe thead th {\n",
       "        text-align: right;\n",
       "    }\n",
       "</style>\n",
       "<table border=\"1\" class=\"dataframe\">\n",
       "  <thead>\n",
       "    <tr style=\"text-align: right;\">\n",
       "      <th></th>\n",
       "      <th>zipcode</th>\n",
       "      <th>avg_price2</th>\n",
       "      <th>listing_id_count</th>\n",
       "      <th>host_id_count</th>\n",
       "    </tr>\n",
       "  </thead>\n",
       "  <tbody>\n",
       "    <tr>\n",
       "      <th>0</th>\n",
       "      <td>90210</td>\n",
       "      <td>1963.557367</td>\n",
       "      <td>278</td>\n",
       "      <td>173</td>\n",
       "    </tr>\n",
       "    <tr>\n",
       "      <th>1</th>\n",
       "      <td>90077</td>\n",
       "      <td>1909.066130</td>\n",
       "      <td>74</td>\n",
       "      <td>48</td>\n",
       "    </tr>\n",
       "    <tr>\n",
       "      <th>2</th>\n",
       "      <td>93063</td>\n",
       "      <td>1567.562500</td>\n",
       "      <td>2</td>\n",
       "      <td>1</td>\n",
       "    </tr>\n",
       "    <tr>\n",
       "      <th>3</th>\n",
       "      <td>90265</td>\n",
       "      <td>1559.605010</td>\n",
       "      <td>329</td>\n",
       "      <td>221</td>\n",
       "    </tr>\n",
       "    <tr>\n",
       "      <th>4</th>\n",
       "      <td>90069</td>\n",
       "      <td>998.113153</td>\n",
       "      <td>423</td>\n",
       "      <td>305</td>\n",
       "    </tr>\n",
       "  </tbody>\n",
       "</table>\n",
       "</div>"
      ],
      "text/plain": [
       "  zipcode   avg_price2  listing_id_count  host_id_count\n",
       "0   90210  1963.557367               278            173\n",
       "1   90077  1909.066130                74             48\n",
       "2   93063  1567.562500                 2              1\n",
       "3   90265  1559.605010               329            221\n",
       "4   90069   998.113153               423            305"
      ]
     },
     "execution_count": 11,
     "metadata": {},
     "output_type": "execute_result"
    }
   ],
   "source": [
    "df_8a=df_cal.loc[(df_cal.date>='2020-01-01') & (df_cal.date<='2020-02-01') &\\\n",
    "                 (df_cal.available=='t'), :]\n",
    "df_8a[\"price2\"]=df_8a.price.apply(getmoney)\n",
    "df_8b=df_8a.merge(df_list,how = \"left\", left_on = \"listing_id\", right_on=\"id\").\\\n",
    "                  loc[:,[\"listing_id\",\"price2\",\"zipcode\",\"host_id\"]]\n",
    "df_8c=df_8b.groupby(by=['zipcode']).filter(lambda x:x['listing_id'].count()>=30)\n",
    "df_8d=sqldf('SELECT zipcode, AVG(price2) AS avg_price2, COUNT(DISTINCT listing_id) AS listing_id_count, \\\n",
    "             COUNT(DISTINCT host_id) AS host_id_count FROM df_8c GROUP BY zipcode ORDER BY avg_price2 DESC\\\n",
    "             LIMIT 5')\n",
    "df_8d.head()"
   ]
  },
  {
   "cell_type": "markdown",
   "metadata": {},
   "source": [
    "Five zipcodes that have at least 30 listings and have the largest absolute difference between the average prices on weekends versus the average prices on weekdays are 91001, 91105, 93063, 90210, 90305"
   ]
  },
  {
   "cell_type": "code",
   "execution_count": 12,
   "metadata": {},
   "outputs": [
    {
     "name": "stderr",
     "output_type": "stream",
     "text": [
      "/Users/sherryguo/anaconda3/lib/python3.7/site-packages/ipykernel_launcher.py:8: SettingWithCopyWarning: \n",
      "A value is trying to be set on a copy of a slice from a DataFrame.\n",
      "Try using .loc[row_indexer,col_indexer] = value instead\n",
      "\n",
      "See the caveats in the documentation: http://pandas.pydata.org/pandas-docs/stable/indexing.html#indexing-view-versus-copy\n",
      "  \n",
      "/Users/sherryguo/anaconda3/lib/python3.7/site-packages/ipykernel_launcher.py:9: SettingWithCopyWarning: \n",
      "A value is trying to be set on a copy of a slice from a DataFrame.\n",
      "Try using .loc[row_indexer,col_indexer] = value instead\n",
      "\n",
      "See the caveats in the documentation: http://pandas.pydata.org/pandas-docs/stable/indexing.html#indexing-view-versus-copy\n",
      "  if __name__ == '__main__':\n",
      "/Users/sherryguo/anaconda3/lib/python3.7/site-packages/ipykernel_launcher.py:10: SettingWithCopyWarning: \n",
      "A value is trying to be set on a copy of a slice from a DataFrame.\n",
      "Try using .loc[row_indexer,col_indexer] = value instead\n",
      "\n",
      "See the caveats in the documentation: http://pandas.pydata.org/pandas-docs/stable/indexing.html#indexing-view-versus-copy\n",
      "  # Remove the CWD from sys.path while we load stuff.\n",
      "/Users/sherryguo/anaconda3/lib/python3.7/site-packages/ipykernel_launcher.py:15: FutureWarning: using a dict on a Series for aggregation\n",
      "is deprecated and will be removed in a future version\n",
      "  from ipykernel import kernelapp as app\n",
      "/Users/sherryguo/anaconda3/lib/python3.7/site-packages/ipykernel_launcher.py:17: FutureWarning: using a dict on a Series for aggregation\n",
      "is deprecated and will be removed in a future version\n"
     ]
    },
    {
     "data": {
      "text/html": [
       "<div>\n",
       "<style scoped>\n",
       "    .dataframe tbody tr th:only-of-type {\n",
       "        vertical-align: middle;\n",
       "    }\n",
       "\n",
       "    .dataframe tbody tr th {\n",
       "        vertical-align: top;\n",
       "    }\n",
       "\n",
       "    .dataframe thead th {\n",
       "        text-align: right;\n",
       "    }\n",
       "</style>\n",
       "<table border=\"1\" class=\"dataframe\">\n",
       "  <thead>\n",
       "    <tr style=\"text-align: right;\">\n",
       "      <th></th>\n",
       "      <th>price2_x</th>\n",
       "      <th>price2_y</th>\n",
       "      <th>max_abs_dif</th>\n",
       "    </tr>\n",
       "    <tr>\n",
       "      <th>zipcode</th>\n",
       "      <th></th>\n",
       "      <th></th>\n",
       "      <th></th>\n",
       "    </tr>\n",
       "  </thead>\n",
       "  <tbody>\n",
       "    <tr>\n",
       "      <th>91001</th>\n",
       "      <td>487.0</td>\n",
       "      <td>187.0</td>\n",
       "      <td>300.0</td>\n",
       "    </tr>\n",
       "    <tr>\n",
       "      <th>91105</th>\n",
       "      <td>365.0</td>\n",
       "      <td>125.0</td>\n",
       "      <td>240.0</td>\n",
       "    </tr>\n",
       "    <tr>\n",
       "      <th>93063</th>\n",
       "      <td>3700.0</td>\n",
       "      <td>3509.0</td>\n",
       "      <td>191.0</td>\n",
       "    </tr>\n",
       "    <tr>\n",
       "      <th>90210</th>\n",
       "      <td>1735.0</td>\n",
       "      <td>1567.0</td>\n",
       "      <td>168.0</td>\n",
       "    </tr>\n",
       "    <tr>\n",
       "      <th>90305</th>\n",
       "      <td>209.0</td>\n",
       "      <td>75.0</td>\n",
       "      <td>134.0</td>\n",
       "    </tr>\n",
       "  </tbody>\n",
       "</table>\n",
       "</div>"
      ],
      "text/plain": [
       "         price2_x  price2_y  max_abs_dif\n",
       "zipcode                                 \n",
       "91001       487.0     187.0        300.0\n",
       "91105       365.0     125.0        240.0\n",
       "93063      3700.0    3509.0        191.0\n",
       "90210      1735.0    1567.0        168.0\n",
       "90305       209.0      75.0        134.0"
      ]
     },
     "execution_count": 12,
     "metadata": {},
     "output_type": "execute_result"
    }
   ],
   "source": [
    "df_9a=df_cal.loc[(df_cal.date>=dt.date(2020,1,1)) & (df_cal.date<=dt.date(2020,4,1)) &\\\n",
    "                 (df_cal.available=='t'), :]\n",
    "df_9a[\"dayofweek\"] = df_9a.dt.dayofweek\n",
    "df_9a[\"weekday\"] = df_9a[\"dayofweek\"].apply(lambda x:\"Weekend\"if x[0]== \"S\" else (\"Weekday\"))\n",
    "df_9b=df_9a.merge(df_list,how = \"left\", left_on = \"listing_id\", right_on=\"id\")\\\n",
    "                  .loc[:,[\"date\",\"dayofweek\",\"weekday\",\"listing_id\",\"price\",\"zipcode\",\"host_id\"]]\n",
    "df_9c=df_9b.groupby(by=['zipcode']).filter(lambda x:x['listing_id'].count()>=30)\n",
    "df_9d=sqldf(\"SELECT * FROM df_9c WHERE weekday='Weekday' GROUP BY zipcode\")\n",
    "df_9d=df_9d.groupby(by=[\"zipcode\"])['price'].agg({\"price\":np.mean}).sort_values(by=[\"price\"],ascending=False)\n",
    "df_9e=sqldf(\"SELECT * FROM df_9c WHERE weekday='Weekend' GROUP BY zipcode\")\n",
    "df_9e=df_9e.groupby(by=[\"zipcode\"])['price'].agg({\"price\":np.mean}).sort_values(by=[\"price\"],ascending=False)\n",
    "df_9f=df_9d.merge(df_9e,how = \"outer\", left_on = \"zipcode\", right_on=\"zipcode\")\n",
    "df_9f[\"max_abs_dif\"]=df_9f[\"price_x\"]-df_9f[\"price_y\"]\n",
    "df_9f.sort_values(by=[\"max_abs_dif\"],ascending=False).head()"
   ]
  },
  {
   "cell_type": "code",
   "execution_count": null,
   "metadata": {},
   "outputs": [],
   "source": []
  },
  {
   "cell_type": "markdown",
   "metadata": {},
   "source": [
    "## 3.2 Price and D&S"
   ]
  },
  {
   "cell_type": "markdown",
   "metadata": {},
   "source": [
    "1) Price of listing"
   ]
  },
  {
   "cell_type": "code",
   "execution_count": 123,
   "metadata": {},
   "outputs": [
    {
     "data": {
      "text/plain": [
       "amax    25000.0000\n",
       "amin       10.0274\n",
       "mean      218.0288\n",
       "std       580.2143\n",
       "Name: price, dtype: float64"
      ]
     },
     "execution_count": 123,
     "metadata": {},
     "output_type": "execute_result"
    }
   ],
   "source": [
    "# Analysis of the average price of a listing in Los Angles\n",
    "df_6=df_cal.groupby(by=['listing_id'])['price'].mean().agg([np.max,np.min,np.mean,np.std])\n",
    "round(df_6,4)"
   ]
  },
  {
   "cell_type": "code",
   "execution_count": 124,
   "metadata": {},
   "outputs": [],
   "source": [
    "df_6b=df_cal.groupby(by=['date'])['price'].mean()\n",
    "df_6b=pd.DataFrame(data=df_6b, columns=['price']).reset_index()"
   ]
  },
  {
   "cell_type": "code",
   "execution_count": 134,
   "metadata": {},
   "outputs": [
    {
     "data": {
      "image/png": "[encoded data removed]",
      "text/plain": [
       "<Figure size 504x360 with 1 Axes>"
      ]
     },
     "metadata": {
      "needs_background": "light"
     },
     "output_type": "display_data"
    }
   ],
   "source": [
    "fig,ax=plt.subplots(figsize=(7,5))\n",
    "ax.plot(df_6b.date,df_6b.price,color='b')\n",
    "ax.set(title = \"Trend of Price\", xlabel=\"Date\", ylabel=\"Average price each day\")\n",
    "ax.xaxis.set_major_locator(mdates.MonthLocator())\n",
    "plt.xticks(rotation=70)\n",
    "plt.show()"
   ]
  },
  {
   "cell_type": "code",
   "execution_count": 48,
   "metadata": {},
   "outputs": [
    {
     "data": {
      "text/plain": [
       "amax    25000.0000\n",
       "amin       10.1475\n",
       "mean      254.7782\n",
       "std       684.7550\n",
       "Name: price, dtype: float64"
      ]
     },
     "execution_count": 48,
     "metadata": {},
     "output_type": "execute_result"
    }
   ],
   "source": [
    "# Analysis of the average price of a listing in Los Angles from 01/01/2020 to 03/01/2020 (inclusive)\n",
    "df_6a=df_cal.loc[(df_cal.date>='2020-01-01') & (df_cal.date<='2020-03-01') &\\\n",
    "                 (df_cal.available=='t'), :]\n",
    "\n",
    "df_6=df_6a.groupby(by=['listing_id'])['price'].mean().agg([np.max,np.min,np.mean,np.std])\n",
    "round(df_6,4)"
   ]
  },
  {
   "cell_type": "markdown",
   "metadata": {},
   "source": [
    "2) The number of reviews  \n",
    "The number of reviews made has increased a lot."
   ]
  },
  {
   "cell_type": "code",
   "execution_count": 9,
   "metadata": {},
   "outputs": [],
   "source": [
    "df_6c=df_review.groupby(by=['date'])['id'].nunique()\n",
    "df_6c=pd.DataFrame(data=df_6c, columns=['id']).reset_index()"
   ]
  },
  {
   "cell_type": "code",
   "execution_count": 12,
   "metadata": {},
   "outputs": [
    {
     "data": {
      "image/png": "[encoded data removed]",
      "text/plain": [
       "<Figure size 504x360 with 1 Axes>"
      ]
     },
     "metadata": {
      "needs_background": "light"
     },
     "output_type": "display_data"
    }
   ],
   "source": [
    "fig,ax=plt.subplots(figsize=(7,5))\n",
    "ax.plot(df_6c.date,df_6c.id,color='g')\n",
    "ax.set(title = \"Trend of Demand\", xlabel=\"Date\", ylabel=\"Number of reviews each day\")\n",
    "ax.xaxis.set_major_locator(mdates.YearLocator())\n",
    "plt.xticks(rotation=70)\n",
    "plt.show()"
   ]
  },
  {
   "cell_type": "code",
   "execution_count": 24,
   "metadata": {},
   "outputs": [],
   "source": [
    "df_6c2=df_review.loc[df_review.date>=dt.date(2015,1,1), :].groupby(by=['date'])['id'].nunique()\n",
    "df_6c2=pd.DataFrame(data=df_6c2, columns=['id']).reset_index()"
   ]
  },
  {
   "cell_type": "code",
   "execution_count": 26,
   "metadata": {
    "scrolled": true
   },
   "outputs": [
    {
     "data": {
      "image/png": "[encoded data removed]",
      "text/plain": [
       "<Figure size 504x360 with 1 Axes>"
      ]
     },
     "metadata": {
      "needs_background": "light"
     },
     "output_type": "display_data"
    }
   ],
   "source": [
    "fig,ax=plt.subplots(figsize=(7,5))\n",
    "ax.plot(df_6c2.date,df_6c2.id,color='g')\n",
    "ax.set(title = \"Trend of Demand Annually\", xlabel=\"Date\", ylabel=\"Number of reviews each day\")\n",
    "ax.xaxis.set_major_locator(mdates.YearLocator())\n",
    "plt.xticks(rotation=70)\n",
    "plt.show()"
   ]
  },
  {
   "cell_type": "markdown",
   "metadata": {},
   "source": [
    "3) Changes of number of listing  \n",
    "Number of listing did not change."
   ]
  },
  {
   "cell_type": "code",
   "execution_count": 138,
   "metadata": {},
   "outputs": [
    {
     "data": {
      "text/plain": [
       "amax    45053.0\n",
       "amin    45053.0\n",
       "mean    45053.0\n",
       "std         0.0\n",
       "Name: listing_id, dtype: float64"
      ]
     },
     "execution_count": 138,
     "metadata": {},
     "output_type": "execute_result"
    }
   ],
   "source": [
    "df_6d=df_cal.groupby(by=['date'])['listing_id'].nunique().agg([np.max,np.min,np.mean,np.std])\n",
    "df_6d"
   ]
  },
  {
   "cell_type": "code",
   "execution_count": 18,
   "metadata": {},
   "outputs": [
    {
     "data": {
      "text/plain": [
       "amax    4154.000000\n",
       "amin       1.000000\n",
       "mean     445.555062\n",
       "std      610.237225\n",
       "Name: listing_id, dtype: float64"
      ]
     },
     "execution_count": 18,
     "metadata": {},
     "output_type": "execute_result"
    }
   ],
   "source": [
    "df_6e=df_review.groupby(by=['date'])['listing_id'].nunique()\n",
    "df_6e.agg([np.max,np.min,np.mean,np.std])"
   ]
  },
  {
   "cell_type": "code",
   "execution_count": 19,
   "metadata": {
    "scrolled": true
   },
   "outputs": [
    {
     "data": {
      "image/png": "[encoded data removed]",
      "text/plain": [
       "<Figure size 504x360 with 1 Axes>"
      ]
     },
     "metadata": {
      "needs_background": "light"
     },
     "output_type": "display_data"
    }
   ],
   "source": [
    "df_6e=pd.DataFrame(data=df_6e, columns=['listing_id']).reset_index()\n",
    "\n",
    "fig,ax=plt.subplots(figsize=(7,5))\n",
    "ax.plot(df_6e.date,df_6e.listing_id,color='g')\n",
    "ax.set(title = \"Trend of Demand 2\", xlabel=\"Date\", ylabel=\"Number of listing each day\")\n",
    "ax.xaxis.set_major_locator(mdates.YearLocator())\n",
    "plt.xticks(rotation=70)\n",
    "plt.show()"
   ]
  },
  {
   "cell_type": "markdown",
   "metadata": {},
   "source": [
    "From year 2009, Airbnb demand has continuously increasd. After year 2015, the demand has increased rapidly.   \n",
    "We can see the peak and drop in each year: The demand is lowest in January and increases until October, when it begins to falls until the end of the year. This could possibly be due to the holiday season kicking in, with people celebrating Thanksgiving and Christmas at home with their family, leading to a slump in tourism and hence the demand for tourist lodging."
   ]
  },
  {
   "cell_type": "markdown",
   "metadata": {},
   "source": [
    "4) Daily capcaity"
   ]
  },
  {
   "cell_type": "markdown",
   "metadata": {},
   "source": [
    "From 2020-01-01 to 2020-04-01:  \n",
    "The average and standard deviation of the daily total capacity is 47091.648, 4921.138.  \n",
    "The average and standard deviation of the daily price per bed is 124.060, 5.634."
   ]
  },
  {
   "cell_type": "code",
   "execution_count": 13,
   "metadata": {},
   "outputs": [],
   "source": [
    "ava_df_cal=df_cal.loc[(df_cal.date>=date(2020,1,1)) & (df_cal.date<date(2020,4,1))&\\\n",
    "            (df_cal.available=='t'), [\"listing_id\", \"date\", \"price\"]]\n",
    "df_10a=df_list[['id','beds']].merge(ava_df_cal, how='inner', left_on='id', right_on='listing_id')\n",
    "\n",
    "def getmoney(price):\n",
    "    str_pri=str(price)\n",
    "    str_price=str_pri.replace(\",\",\"\").strip('$')\n",
    "    num_price=float(str_price)\n",
    "    return num_price\n",
    "\n",
    "df_10a['price']=df_10a.price.apply(getmoney)"
   ]
  },
  {
   "cell_type": "code",
   "execution_count": 14,
   "metadata": {},
   "outputs": [
    {
     "data": {
      "text/plain": [
       "(47091.64835164835, 4921.138764720635)"
      ]
     },
     "execution_count": 14,
     "metadata": {},
     "output_type": "execute_result"
    }
   ],
   "source": [
    "df_10b=df_10a.groupby(by='date').agg({'beds':np.sum, 'price': np.sum})\n",
    "df_10b.reset_index(inplace=True)\n",
    "df_10b.beds.mean(),df_10b.beds.std()"
   ]
  },
  {
   "cell_type": "code",
   "execution_count": 15,
   "metadata": {
    "scrolled": true
   },
   "outputs": [
    {
     "data": {
      "text/plain": [
       "(124.06037237364912, 5.6335888355340975)"
      ]
     },
     "execution_count": 15,
     "metadata": {},
     "output_type": "execute_result"
    }
   ],
   "source": [
    "df_10b['price_pre_bed']=df_10b.apply(lambda x: x['price']/x['beds'], axis=1)\n",
    "df_10b.price_pre_bed.mean(), df_10b.price_pre_bed.std()"
   ]
  },
  {
   "cell_type": "markdown",
   "metadata": {},
   "source": [
    "The daily occupancy trend from 2019-09-01 to 2020-09-01 (one year):  \n",
    "Price reflects the demands of the market. By sharing the same x-axis, which is date, we can know that the occupancy keeps increasing from the beginning of Sep 2019 to the mid of Dec 2019, which could be a potential reason for Airbnb's host to increase the price. After Christmas and new year celebration, the demand of house decreases rapidly which simultaneously leads to a decrease in price."
   ]
  },
  {
   "cell_type": "code",
   "execution_count": 16,
   "metadata": {
    "scrolled": false
   },
   "outputs": [],
   "source": [
    "#create a new database with target date and convert available data into numerical data\n",
    "df_cal1=df_cal.loc[(df_cal.date>=\"2019-09-01\") & (df_cal.date<=\"2020-09-01\"), \\\n",
    "                   [\"listing_id\", \"date\", \"available\",\"price\"]]\n",
    "\n",
    "df_cal1['available_num']=df_cal1.available.apply(lambda x: 1 if x=='t' else 0)"
   ]
  },
  {
   "cell_type": "code",
   "execution_count": 17,
   "metadata": {},
   "outputs": [
    {
     "data": {
      "text/html": [
       "<div>\n",
       "<style scoped>\n",
       "    .dataframe tbody tr th:only-of-type {\n",
       "        vertical-align: middle;\n",
       "    }\n",
       "\n",
       "    .dataframe tbody tr th {\n",
       "        vertical-align: top;\n",
       "    }\n",
       "\n",
       "    .dataframe thead th {\n",
       "        text-align: right;\n",
       "    }\n",
       "</style>\n",
       "<table border=\"1\" class=\"dataframe\">\n",
       "  <thead>\n",
       "    <tr style=\"text-align: right;\">\n",
       "      <th></th>\n",
       "      <th>date</th>\n",
       "      <th>total_list</th>\n",
       "      <th>total_available</th>\n",
       "      <th>Occupancy</th>\n",
       "    </tr>\n",
       "  </thead>\n",
       "  <tbody>\n",
       "    <tr>\n",
       "      <th>0</th>\n",
       "      <td>2019-09-14</td>\n",
       "      <td>45053</td>\n",
       "      <td>5516</td>\n",
       "      <td>0.122434</td>\n",
       "    </tr>\n",
       "    <tr>\n",
       "      <th>1</th>\n",
       "      <td>2019-09-15</td>\n",
       "      <td>45053</td>\n",
       "      <td>11558</td>\n",
       "      <td>0.256542</td>\n",
       "    </tr>\n",
       "    <tr>\n",
       "      <th>2</th>\n",
       "      <td>2019-09-16</td>\n",
       "      <td>45053</td>\n",
       "      <td>14748</td>\n",
       "      <td>0.327348</td>\n",
       "    </tr>\n",
       "    <tr>\n",
       "      <th>3</th>\n",
       "      <td>2019-09-17</td>\n",
       "      <td>45053</td>\n",
       "      <td>15816</td>\n",
       "      <td>0.351053</td>\n",
       "    </tr>\n",
       "    <tr>\n",
       "      <th>4</th>\n",
       "      <td>2019-09-18</td>\n",
       "      <td>45053</td>\n",
       "      <td>15935</td>\n",
       "      <td>0.353695</td>\n",
       "    </tr>\n",
       "  </tbody>\n",
       "</table>\n",
       "</div>"
      ],
      "text/plain": [
       "         date  total_list  total_available  Occupancy\n",
       "0  2019-09-14       45053             5516   0.122434\n",
       "1  2019-09-15       45053            11558   0.256542\n",
       "2  2019-09-16       45053            14748   0.327348\n",
       "3  2019-09-17       45053            15816   0.351053\n",
       "4  2019-09-18       45053            15935   0.353695"
      ]
     },
     "execution_count": 17,
     "metadata": {},
     "output_type": "execute_result"
    }
   ],
   "source": [
    "#calculate occupancy\n",
    "from pandasql import sqldf\n",
    "df_q1a=sqldf(\"SELECT date, COUNT(listing_id) AS total_list, SUM(available_num) AS total_available FROM df_cal1 GROUP BY date\")\n",
    "df_q1a[\"Occupancy\"]=df_q1a['total_available']/df_q1a[\"total_list\"]\n",
    "df_q1a.head()"
   ]
  },
  {
   "cell_type": "code",
   "execution_count": 18,
   "metadata": {
    "scrolled": true
   },
   "outputs": [
    {
     "data": {
      "text/plain": [
       "[Text(0, 0.5, 'Occupancy each day'),\n",
       " Text(0.5, 0, 'Date'),\n",
       " Text(0.5, 1.0, 'Trend of Occupancy')]"
      ]
     },
     "execution_count": 18,
     "metadata": {},
     "output_type": "execute_result"
    },
    {
     "data": {
      "image/png": "[encoded data removed]",
      "text/plain": [
       "<Figure size 504x360 with 1 Axes>"
      ]
     },
     "metadata": {},
     "output_type": "display_data"
    }
   ],
   "source": [
    "#plot result\n",
    "import matplotlib.pyplot as plt\n",
    "plt.style.use(\"ggplot\")\n",
    "fig, ax0=plt.subplots(nrows=1,ncols=1, figsize = (7,5))\n",
    "\n",
    "df_q1a.plot(kind=\"line\", x = \"date\", y = \"Occupancy\", color = 'b', label = \"Occupancy\",  ax = ax0 )\n",
    "ax0.set(title = \"Trend of Occupancy\", xlabel=\"Date\", ylabel=\"Occupancy each day\")"
   ]
  },
  {
   "cell_type": "markdown",
   "metadata": {},
   "source": [
    "4) Duration  \n",
    "Definition: The duration is the number of nights booked per year of a listing.  \n",
    "Most of the houses are under the normal range of 150-250. There are around 10 neighbourhoods that have a higher average durations with values greater than 250, which may indicates that the people in these neighbourhoods have a higher tendency to consider the house as a commercial house."
   ]
  },
  {
   "cell_type": "code",
   "execution_count": 22,
   "metadata": {},
   "outputs": [
    {
     "data": {
      "text/html": [
       "<div>\n",
       "<style scoped>\n",
       "    .dataframe tbody tr th:only-of-type {\n",
       "        vertical-align: middle;\n",
       "    }\n",
       "\n",
       "    .dataframe tbody tr th {\n",
       "        vertical-align: top;\n",
       "    }\n",
       "\n",
       "    .dataframe thead th {\n",
       "        text-align: right;\n",
       "    }\n",
       "</style>\n",
       "<table border=\"1\" class=\"dataframe\">\n",
       "  <thead>\n",
       "    <tr style=\"text-align: right;\">\n",
       "      <th></th>\n",
       "      <th>listing_id</th>\n",
       "      <th>Duration</th>\n",
       "      <th>Avg_Price</th>\n",
       "    </tr>\n",
       "  </thead>\n",
       "  <tbody>\n",
       "    <tr>\n",
       "      <th>0</th>\n",
       "      <td>109</td>\n",
       "      <td>154</td>\n",
       "      <td>122.000000</td>\n",
       "    </tr>\n",
       "    <tr>\n",
       "      <th>1</th>\n",
       "      <td>344</td>\n",
       "      <td>80</td>\n",
       "      <td>156.250000</td>\n",
       "    </tr>\n",
       "    <tr>\n",
       "      <th>2</th>\n",
       "      <td>2708</td>\n",
       "      <td>265</td>\n",
       "      <td>51.958491</td>\n",
       "    </tr>\n",
       "    <tr>\n",
       "      <th>3</th>\n",
       "      <td>2732</td>\n",
       "      <td>335</td>\n",
       "      <td>140.000000</td>\n",
       "    </tr>\n",
       "    <tr>\n",
       "      <th>4</th>\n",
       "      <td>5728</td>\n",
       "      <td>95</td>\n",
       "      <td>69.631579</td>\n",
       "    </tr>\n",
       "  </tbody>\n",
       "</table>\n",
       "</div>"
      ],
      "text/plain": [
       "   listing_id  Duration   Avg_Price\n",
       "0         109       154  122.000000\n",
       "1         344        80  156.250000\n",
       "2        2708       265   51.958491\n",
       "3        2732       335  140.000000\n",
       "4        5728        95   69.631579"
      ]
     },
     "execution_count": 22,
     "metadata": {},
     "output_type": "execute_result"
    }
   ],
   "source": [
    "# Your code to answer Question 3\n",
    "\n",
    "import numpy as np\n",
    "df_q3a=df_cal.loc[(df_cal.date>=\"2019-09-01\") & (df_cal.date<=\"2020-09-01\")&\\\n",
    "            (df_cal.available=='t'), [\"listing_id\", \"available\",\"price\"]]\n",
    "\n",
    "df_q3a['price']=df_q3a.price.apply(getmoney)\n",
    "df_q3b=sqldf(\"SELECT listing_id, COUNT(available) AS Duration, AVG(price) AS Avg_Price\\\n",
    "              FROM df_q3a GROUP BY listing_id\")\n",
    "df_q3b.head()"
   ]
  },
  {
   "cell_type": "code",
   "execution_count": 23,
   "metadata": {},
   "outputs": [],
   "source": [
    "df_q3c=df_q3b.merge(df_list[['id','neighbourhood']], how='left', left_on='listing_id', right_on='id')\n",
    "df_q3d=sqldf(\"SELECT neighbourhood, AVG(Duration) AS avg_Duration, AVG(Avg_Price) AS Avg_Price_N\\\n",
    "              FROM df_q3c GROUP BY neighbourhood ORDER BY AVG(Duration) DESC\")\n",
    "df_q3e=sqldf(\"SELECT neighbourhood, COUNT(DISTINCT id) AS total_list, AVG(Avg_Price) AS Avg_Price_N\\\n",
    "              FROM df_q3c GROUP BY neighbourhood ORDER BY total_list DESC\")"
   ]
  },
  {
   "cell_type": "code",
   "execution_count": 24,
   "metadata": {
    "scrolled": true
   },
   "outputs": [
    {
     "data": {
      "text/plain": [
       "[Text(0, 0.5, 'Average Price'),\n",
       " Text(0.5, 0, 'Average Duration'),\n",
       " Text(0.5, 1.0, 'Listing Characters in Neighborhood')]"
      ]
     },
     "execution_count": 24,
     "metadata": {},
     "output_type": "execute_result"
    },
    {
     "data": {
      "image/png": "[encoded data removed]",
      "text/plain": [
       "<Figure size 504x360 with 1 Axes>"
      ]
     },
     "metadata": {},
     "output_type": "display_data"
    }
   ],
   "source": [
    "# plot the result\n",
    "fig3, ax3_0=plt.subplots(nrows=1,ncols=1, figsize = (7,5))\n",
    "\n",
    "df_q3d.plot(kind=\"scatter\", x = \"avg_Duration\", y = \"Avg_Price_N\", color = 'b',  ax = ax3_0 )\n",
    "ax3_0.set(title = \"Listing Characters in Neighborhood\", xlabel=\"Average Duration\", ylabel=\"Average Price\")"
   ]
  },
  {
   "cell_type": "markdown",
   "metadata": {},
   "source": [
    "## 3.3 Host Data Analysis"
   ]
  },
  {
   "cell_type": "markdown",
   "metadata": {},
   "source": [
    "1) What makes someone a superhost?"
   ]
  },
  {
   "cell_type": "markdown",
   "metadata": {},
   "source": [
    "For super host, the average number of listings is 7.359 with a standard deviation of 20.867. For non-super host, the average number of listings is 6.795 with a standard deviation of 14.348."
   ]
  },
  {
   "cell_type": "code",
   "execution_count": 15,
   "metadata": {},
   "outputs": [
    {
     "data": {
      "text/html": [
       "<div>\n",
       "<style scoped>\n",
       "    .dataframe tbody tr th:only-of-type {\n",
       "        vertical-align: middle;\n",
       "    }\n",
       "\n",
       "    .dataframe tbody tr th {\n",
       "        vertical-align: top;\n",
       "    }\n",
       "\n",
       "    .dataframe thead th {\n",
       "        text-align: right;\n",
       "    }\n",
       "</style>\n",
       "<table border=\"1\" class=\"dataframe\">\n",
       "  <thead>\n",
       "    <tr style=\"text-align: right;\">\n",
       "      <th></th>\n",
       "      <th>host_is_superhost</th>\n",
       "      <th>mean</th>\n",
       "      <th>std</th>\n",
       "    </tr>\n",
       "  </thead>\n",
       "  <tbody>\n",
       "    <tr>\n",
       "      <th>0</th>\n",
       "      <td>f</td>\n",
       "      <td>6.795214</td>\n",
       "      <td>14.348464</td>\n",
       "    </tr>\n",
       "    <tr>\n",
       "      <th>1</th>\n",
       "      <td>t</td>\n",
       "      <td>7.359444</td>\n",
       "      <td>20.866644</td>\n",
       "    </tr>\n",
       "  </tbody>\n",
       "</table>\n",
       "</div>"
      ],
      "text/plain": [
       "  host_is_superhost      mean        std\n",
       "0                 f  6.795214  14.348464\n",
       "1                 t  7.359444  20.866644"
      ]
     },
     "execution_count": 15,
     "metadata": {},
     "output_type": "execute_result"
    }
   ],
   "source": [
    "df_3=df_list.groupby(by=['host_is_superhost'])['calculated_host_listings_count'].agg([np.mean,np.std])\n",
    "df_3.reset_index(inplace=True)\n",
    "df_3"
   ]
  },
  {
   "cell_type": "markdown",
   "metadata": {},
   "source": [
    "2) What are the types of host verifications?"
   ]
  },
  {
   "cell_type": "markdown",
   "metadata": {},
   "source": [
    "There are 22 unique types of host veriftication in LA rental market.  \n",
    "The top 5 popular types are phone, email, reviews, government_id and offline_government_id"
   ]
  },
  {
   "cell_type": "code",
   "execution_count": 4,
   "metadata": {},
   "outputs": [
    {
     "data": {
      "text/plain": [
       "{\"'email'\": 42359,\n",
       " \"'phone'\": 44881,\n",
       " \"'facebook'\": 8430,\n",
       " \"'reviews'\": 32907,\n",
       " \"'kba'\": 10762,\n",
       " \"'jumio'\": 20670,\n",
       " \"'government_id'\": 28789,\n",
       " \"'offline_government_id'\": 20906,\n",
       " \"'selfie'\": 13362,\n",
       " \"'identity_manual'\": 12284,\n",
       " \"'work_email'\": 6296,\n",
       " \"'manual_online'\": 307,\n",
       " \"'manual_offline'\": 611,\n",
       " \"'google'\": 3416,\n",
       " '': 7,\n",
       " \"'sent_id'\": 144,\n",
       " 'None': 16,\n",
       " \"'sesame'\": 42,\n",
       " \"'sesame_offline'\": 42,\n",
       " \"'photographer'\": 3,\n",
       " \"'zhima_selfie'\": 181,\n",
       " \"'weibo'\": 78}"
      ]
     },
     "execution_count": 4,
     "metadata": {},
     "output_type": "execute_result"
    }
   ],
   "source": [
    "#unique types of verification and the total number of hosts verify that type\n",
    "d={}\n",
    "count=0\n",
    "for i in range(len(df_list)):\n",
    "    a=df_list[\"host_verifications\"][i].strip(\"[\").strip(\"]\").replace(' ', '').split(\",\")\n",
    "    for j in range(len(a)):\n",
    "        if a[j] in d:\n",
    "            d[a[j]]+=1\n",
    "        else:\n",
    "            d[a[j]]=1\n",
    "    count+=len(a)\n",
    "\n",
    "len(d)\n",
    "d"
   ]
  },
  {
   "cell_type": "code",
   "execution_count": 5,
   "metadata": {
    "scrolled": true
   },
   "outputs": [
    {
     "data": {
      "text/plain": [
       "[(\"'phone'\", 0.1821),\n",
       " (\"'email'\", 0.1718),\n",
       " (\"'reviews'\", 0.1335),\n",
       " (\"'government_id'\", 0.1168),\n",
       " (\"'offline_government_id'\", 0.0848),\n",
       " (\"'jumio'\", 0.0839),\n",
       " (\"'selfie'\", 0.0542),\n",
       " (\"'identity_manual'\", 0.0498),\n",
       " (\"'kba'\", 0.0437),\n",
       " (\"'facebook'\", 0.0342),\n",
       " (\"'work_email'\", 0.0255),\n",
       " (\"'google'\", 0.0139),\n",
       " (\"'manual_offline'\", 0.0025),\n",
       " (\"'manual_online'\", 0.0012),\n",
       " (\"'zhima_selfie'\", 0.0007),\n",
       " (\"'sent_id'\", 0.0006),\n",
       " (\"'weibo'\", 0.0003),\n",
       " (\"'sesame'\", 0.0002),\n",
       " (\"'sesame_offline'\", 0.0002),\n",
       " ('None', 0.0001),\n",
       " ('', 0.0),\n",
       " (\"'photographer'\", 0.0)]"
      ]
     },
     "execution_count": 5,
     "metadata": {},
     "output_type": "execute_result"
    }
   ],
   "source": [
    "#popular verification types and the percent of hosts verify that type\n",
    "for name in d.keys():\n",
    "    precent=d[name]/count\n",
    "    d[name]=round(precent,4)\n",
    "\n",
    "sorted_d = sorted(d.items(), key=operator.itemgetter(1),reverse=True)\n",
    "sorted_d"
   ]
  },
  {
   "cell_type": "code",
   "execution_count": null,
   "metadata": {},
   "outputs": [],
   "source": []
  },
  {
   "cell_type": "markdown",
   "metadata": {},
   "source": [
    "## 3.4 User Reviews Analysis"
   ]
  },
  {
   "cell_type": "markdown",
   "metadata": {},
   "source": [
    "#### Top words"
   ]
  },
  {
   "cell_type": "code",
   "execution_count": 52,
   "metadata": {},
   "outputs": [
    {
     "data": {
      "text/plain": [
       "amax    2019-09-14\n",
       "amin    2009-05-26\n",
       "Name: date, dtype: object"
      ]
     },
     "execution_count": 52,
     "metadata": {},
     "output_type": "execute_result"
    }
   ],
   "source": [
    "df_review['date'].agg([np.max,np.min])"
   ]
  },
  {
   "cell_type": "code",
   "execution_count": 61,
   "metadata": {},
   "outputs": [],
   "source": [
    "#before convert date into date format\n",
    "def gettopword(date, df_review):\n",
    "    df_7a=df_review.loc[(df_review.date>=date[0]) & (df_review.date<=date[1]), :'comments']\n",
    "\n",
    "    for index, row in df_7a.iterrows():\n",
    "        l=row['comments']\n",
    "        if type(l) is str:\n",
    "            l=l.lower()\n",
    "            list1 = \"\".join(c for c in l if (c not in string.punctuation and not c.isdigit()))        \n",
    "            df_7a.loc[index,'comments']=list1\n",
    "        else:\n",
    "            df_7a.drop(index, axis=0, inplace=True)\n",
    "    df_7s=df_7a['comments'].apply(lambda x: [item for item in x.split(' ') if (item not in stop)])\n",
    "\n",
    "    wordcount={}\n",
    "    for row in df_7s:\n",
    "        for word in row:\n",
    "            try:\n",
    "                wordcount[word]+=1\n",
    "            except:\n",
    "                wordcount[word]=1\n",
    "\n",
    "    wordcount_s=dict(sorted(wordcount.items(), key=operator.itemgetter(1), reverse=True)[1:11])\n",
    "    return wordcount_s"
   ]
  },
  {
   "cell_type": "code",
   "execution_count": null,
   "metadata": {},
   "outputs": [],
   "source": [
    "#top words from 2016-09-14 to 2019-09-14\n",
    "wordcount=gettopword(df_review)\n",
    "wordcount"
   ]
  },
  {
   "cell_type": "code",
   "execution_count": 8,
   "metadata": {},
   "outputs": [
    {
     "data": {
      "text/plain": [
       "{'great': 5374,\n",
       " 'stay': 4661,\n",
       " 'place': 4284,\n",
       " 'clean': 2719,\n",
       " 'location': 2694,\n",
       " 'house': 2642,\n",
       " 'us': 2631,\n",
       " 'nice': 2404,\n",
       " 'would': 2382,\n",
       " 'host': 2325}"
      ]
     },
     "execution_count": 8,
     "metadata": {},
     "output_type": "execute_result"
    }
   ],
   "source": [
    "wordcount1=gettopword(['2016-01-01','2016-01-31'], df_review)\n",
    "wordcount1"
   ]
  },
  {
   "cell_type": "code",
   "execution_count": 9,
   "metadata": {
    "scrolled": true
   },
   "outputs": [
    {
     "data": {
      "text/plain": [
       "{'great': 12169,\n",
       " 'place': 11528,\n",
       " 'stay': 9453,\n",
       " 'location': 5860,\n",
       " 'clean': 5444,\n",
       " 'nice': 4540,\n",
       " 'would': 4514,\n",
       " 'host': 4422,\n",
       " 'house': 3769,\n",
       " 'comfortable': 3756}"
      ]
     },
     "execution_count": 9,
     "metadata": {},
     "output_type": "execute_result"
    }
   ],
   "source": [
    "wordcount2=gettopword(['2017-03-01','2017-03-31'], df_review)\n",
    "wordcount2"
   ]
  },
  {
   "cell_type": "code",
   "execution_count": 10,
   "metadata": {},
   "outputs": [
    {
     "data": {
      "text/plain": [
       "{'great': 18787,\n",
       " 'place': 18654,\n",
       " 'stay': 14741,\n",
       " 'location': 9983,\n",
       " 'clean': 9031,\n",
       " 'would': 7263,\n",
       " 'nice': 6797,\n",
       " 'host': 6789,\n",
       " 'house': 5516,\n",
       " 'la': 5491}"
      ]
     },
     "execution_count": 10,
     "metadata": {},
     "output_type": "execute_result"
    }
   ],
   "source": [
    "wordcount3=gettopword(['2018-04-01','2018-04-31'], df_review)\n",
    "wordcount3"
   ]
  },
  {
   "cell_type": "markdown",
   "metadata": {},
   "source": [
    "#### Sentiment"
   ]
  },
  {
   "cell_type": "markdown",
   "metadata": {},
   "source": [
    "We analyzed scores and review sentiment in order to find the 'best' host with high score and positive feedback from reviews."
   ]
  },
  {
   "cell_type": "code",
   "execution_count": 27,
   "metadata": {},
   "outputs": [],
   "source": [
    "# convert the database into a dictionary that include positive and negative words\n",
    "dics = pd.read_excel('http://www.wjh.harvard.edu/~inquirer/inquirerbasic.xls',\n",
    "                     dtype={'Entry':'str'})\n",
    "\n",
    "df_q4a = dics[['Entry', 'Positiv', 'Negativ']].dropna(subset=['Positiv', 'Negativ'], how='all')\n",
    "df_q4a['tag'] = 1\n",
    "df_q4a.loc[(df_q4a['Negativ']=='Negativ'), 'tag'] = -1\n",
    "df_q4a.drop(['Positiv', 'Negativ'], axis=1, inplace=True)\n",
    "df_q4a[df_q4a['Entry'].str.contains(r'#')]\n",
    "df_q4a['Entry'] = df_q4a['Entry'].str.replace(r'#\\d+', '')\n",
    "df_q4a = df_q4a.drop_duplicates()\n",
    "cnts = df_q4a['Entry'].value_counts()\n",
    "df_q4a[df_q4a['Entry'].isin(cnts[cnts==1].index)]\n",
    "df_q4a['Entry'] = df_q4a['Entry'].str.lower()\n",
    "df_q4a = df_q4a.set_index('Entry').squeeze()\n",
    "df_q4a = df_q4a.to_dict()"
   ]
  },
  {
   "cell_type": "code",
   "execution_count": 28,
   "metadata": {},
   "outputs": [],
   "source": [
    "# create a clean comment list\n",
    "def clean_comment(row):\n",
    "    import string\n",
    "    list2=[]\n",
    "    l=row['comments']\n",
    "    if type(l) is str:\n",
    "        l=l.lower()\n",
    "        list2 = \"\".join(c for c in l if (c not in string.punctuation and not c.isdigit()))        \n",
    "    return list2\n",
    "\n",
    "# count positive and negative words for each comment\n",
    "def score(s, dic=df_q4a):\n",
    "    negcnt, poscnt = 0, 0\n",
    "    words = s['new_review'].split()\n",
    "    for w in words:\n",
    "        if dic.get(w,0) == 1:\n",
    "            poscnt += 1\n",
    "        elif dic.get(w,0) == -1:\n",
    "            negcnt += 1\n",
    "    return poscnt, negcnt, len(words)"
   ]
  },
  {
   "cell_type": "code",
   "execution_count": 29,
   "metadata": {},
   "outputs": [],
   "source": [
    "# using the purely positive score and rank the top 5 host\n",
    "df_q4c=df_review.loc[:,[\"listing_id\"]]\n",
    "df_q4c[\"new_review\"]=df_review.apply(clean_comment,axis=1)\n",
    "df_q4d = df_q4c[df_q4c['new_review'].map(lambda x: len(x)) > 0]\n",
    "df_q4d = df_q4d.apply(score,axis=1)\n",
    "df_q4c['positive']=df_q4d.apply(lambda x: x[0])\n",
    "df_q4c['negative']=df_q4d.apply(lambda x: x[1])\n",
    "df_q4c['score']=df_q4c['positive']-df_q4c['negative']\n",
    "df_q4d=df_q4c.groupby(by=['listing_id'])['score'].agg([np.sum])\n",
    "df_q4e=df_q4d.sort_values(by=[\"sum\"],ascending=False)\n",
    "df_q4e=df_q4e.reset_index()\n",
    "df_q4f=df_q4e.head(5)"
   ]
  },
  {
   "cell_type": "code",
   "execution_count": 30,
   "metadata": {},
   "outputs": [
    {
     "data": {
      "text/plain": [
       "(3000, 4500)"
      ]
     },
     "execution_count": 30,
     "metadata": {},
     "output_type": "execute_result"
    },
    {
     "data": {
      "image/png": "[encoded data removed]",
      "text/plain": [
       "<Figure size 432x432 with 1 Axes>"
      ]
     },
     "metadata": {},
     "output_type": "display_data"
    }
   ],
   "source": [
    "# develop a graph to illustrate the top 5 host ID with the most purely positive words\n",
    "fig,ax0 = plt.subplots(figsize=(6,6))\n",
    "fig.suptitle(\"Top 5 Hosts with Most Positive Review Words\")\n",
    "\n",
    "df_q4f.plot(kind=\"barh\",x=\"listing_id\",y=\"sum\",color=\"r\",ax=ax0) \n",
    "ax0.set(xlabel = \"Number of Positive Words\",ylabel=\"Host ID\")\n",
    "ax0.set_xlim([3000,4500])"
   ]
  },
  {
   "cell_type": "code",
   "execution_count": 31,
   "metadata": {},
   "outputs": [
    {
     "data": {
      "text/html": [
       "<div>\n",
       "<style scoped>\n",
       "    .dataframe tbody tr th:only-of-type {\n",
       "        vertical-align: middle;\n",
       "    }\n",
       "\n",
       "    .dataframe tbody tr th {\n",
       "        vertical-align: top;\n",
       "    }\n",
       "\n",
       "    .dataframe thead th {\n",
       "        text-align: right;\n",
       "    }\n",
       "</style>\n",
       "<table border=\"1\" class=\"dataframe\">\n",
       "  <thead>\n",
       "    <tr style=\"text-align: right;\">\n",
       "      <th></th>\n",
       "      <th>neighbourhood</th>\n",
       "      <th>mean_x</th>\n",
       "      <th>Rank1</th>\n",
       "      <th>mean_y</th>\n",
       "      <th>Rank2</th>\n",
       "    </tr>\n",
       "  </thead>\n",
       "  <tbody>\n",
       "    <tr>\n",
       "      <th>0</th>\n",
       "      <td>Vernon</td>\n",
       "      <td>100.00</td>\n",
       "      <td>2.0</td>\n",
       "      <td>7.250000</td>\n",
       "      <td>162.0</td>\n",
       "    </tr>\n",
       "    <tr>\n",
       "      <th>1</th>\n",
       "      <td>Bradbury</td>\n",
       "      <td>100.00</td>\n",
       "      <td>2.0</td>\n",
       "      <td>13.000000</td>\n",
       "      <td>161.0</td>\n",
       "    </tr>\n",
       "    <tr>\n",
       "      <th>2</th>\n",
       "      <td>Bell Gardens</td>\n",
       "      <td>100.00</td>\n",
       "      <td>2.0</td>\n",
       "      <td>13.333333</td>\n",
       "      <td>160.0</td>\n",
       "    </tr>\n",
       "    <tr>\n",
       "      <th>3</th>\n",
       "      <td>Irwindale</td>\n",
       "      <td>99.60</td>\n",
       "      <td>4.0</td>\n",
       "      <td>157.400000</td>\n",
       "      <td>47.0</td>\n",
       "    </tr>\n",
       "    <tr>\n",
       "      <th>4</th>\n",
       "      <td>La Crescenta-Montrose</td>\n",
       "      <td>98.25</td>\n",
       "      <td>5.0</td>\n",
       "      <td>108.000000</td>\n",
       "      <td>104.0</td>\n",
       "    </tr>\n",
       "  </tbody>\n",
       "</table>\n",
       "</div>"
      ],
      "text/plain": [
       "           neighbourhood  mean_x  Rank1      mean_y  Rank2\n",
       "0                 Vernon  100.00    2.0    7.250000  162.0\n",
       "1               Bradbury  100.00    2.0   13.000000  161.0\n",
       "2           Bell Gardens  100.00    2.0   13.333333  160.0\n",
       "3              Irwindale   99.60    4.0  157.400000   47.0\n",
       "4  La Crescenta-Montrose   98.25    5.0  108.000000  104.0"
      ]
     },
     "execution_count": 31,
     "metadata": {},
     "output_type": "execute_result"
    }
   ],
   "source": [
    "df_q5a=df_list.merge(df_q4e,how = \"left\", left_on = \"id\", right_on=\"listing_id\").\\\n",
    "                     loc[:,['listing_id','review_scores_rating','review_scores_value','neighbourhood','sum']]\n",
    "df_q5b=df_q5a.groupby(by='neighbourhood')['review_scores_rating'].agg([np.mean])\n",
    "df_q5c=df_q5a.groupby(by='neighbourhood')['sum'].agg([np.mean])\n",
    "df_q5d=df_q5b.sort_values(by=[\"mean\"],ascending=False)\n",
    "df_q5e=df_q5c.sort_values(by=[\"mean\"],ascending=False)\n",
    "df_q5f=df_q5d.reset_index()\n",
    "df_q5f[\"Rank1\"] = df_q5f[\"mean\"].rank(ascending = 0) \n",
    "df_q5g=df_q5e.reset_index()\n",
    "df_q5g[\"Rank2\"] = df_q5g[\"mean\"].rank(ascending = 0) \n",
    "df_q5h=df_q5f.merge(df_q5g,how = \"inner\", left_on = \"neighbourhood\", right_on=\"neighbourhood\")\n",
    "df_q5h.head()"
   ]
  },
  {
   "cell_type": "code",
   "execution_count": 32,
   "metadata": {},
   "outputs": [
    {
     "data": {
      "text/html": [
       "<div>\n",
       "<style scoped>\n",
       "    .dataframe tbody tr th:only-of-type {\n",
       "        vertical-align: middle;\n",
       "    }\n",
       "\n",
       "    .dataframe tbody tr th {\n",
       "        vertical-align: top;\n",
       "    }\n",
       "\n",
       "    .dataframe thead th {\n",
       "        text-align: right;\n",
       "    }\n",
       "</style>\n",
       "<table border=\"1\" class=\"dataframe\">\n",
       "  <thead>\n",
       "    <tr style=\"text-align: right;\">\n",
       "      <th></th>\n",
       "      <th>Rank1</th>\n",
       "      <th>Rank2</th>\n",
       "    </tr>\n",
       "  </thead>\n",
       "  <tbody>\n",
       "    <tr>\n",
       "      <th>Rank1</th>\n",
       "      <td>1.000000</td>\n",
       "      <td>0.193793</td>\n",
       "    </tr>\n",
       "    <tr>\n",
       "      <th>Rank2</th>\n",
       "      <td>0.193793</td>\n",
       "      <td>1.000000</td>\n",
       "    </tr>\n",
       "  </tbody>\n",
       "</table>\n",
       "</div>"
      ],
      "text/plain": [
       "          Rank1     Rank2\n",
       "Rank1  1.000000  0.193793\n",
       "Rank2  0.193793  1.000000"
      ]
     },
     "execution_count": 32,
     "metadata": {},
     "output_type": "execute_result"
    }
   ],
   "source": [
    "df_q5h[['Rank1','Rank2']].corr()"
   ]
  },
  {
   "cell_type": "code",
   "execution_count": 33,
   "metadata": {
    "scrolled": true
   },
   "outputs": [
    {
     "data": {
      "text/plain": [
       "[Text(0, 0.5, 'Ranking'),\n",
       " Text(0.5, 0, 'Neighbourhood'),\n",
       " Text(0.5, 1.0, 'Positive Ranking by Neighbourhood')]"
      ]
     },
     "execution_count": 33,
     "metadata": {},
     "output_type": "execute_result"
    },
    {
     "data": {
      "image/png": "[encoded data removed]",
      "text/plain": [
       "<Figure size 504x720 with 2 Axes>"
      ]
     },
     "metadata": {},
     "output_type": "display_data"
    }
   ],
   "source": [
    "fig, (ax0,ax1)=plt.subplots(nrows=2,ncols=1, figsize = (7,10),sharey=True)\n",
    "df_q5h.plot(kind=\"line\", x = \"neighbourhood\", y = \"mean_x\", color = 'g', label = \"ranking by neighbourhood\", ax = ax0)\n",
    "ax0.set(title = \"Review Value Ranking by Neighbourhood\", xlabel=\"Neighbourhood\", ylabel=\"Ranking\")\n",
    "df_q5h.plot(kind=\"line\", x = \"neighbourhood\", y = \"mean_y\", color = 'r', label = \"ranking by neighbourhood\", ax = ax1 )\n",
    "ax1.set(title = \"Positive Ranking by Neighbourhood\", xlabel=\"Neighbourhood\", ylabel=\"Ranking\")"
   ]
  },
  {
   "cell_type": "markdown",
   "metadata": {},
   "source": [
    "There is a small correlation (around 0.193) between positive words in comments with review score values, but there should be other factors that attribute more than positive words. Also, according on the visualization we created, we know that counting purely positive words would not reflect the hotel’s review score values, because two graphs does not have a similar trend. We might need to analyze more factors to finalize our model to answer this question."
   ]
  },
  {
   "cell_type": "code",
   "execution_count": null,
   "metadata": {},
   "outputs": [],
   "source": []
  }
 ],
 "metadata": {
  "kernelspec": {
   "display_name": "Python 3",
   "language": "python",
   "name": "python3"
  },
  "language_info": {
   "codemirror_mode": {
    "name": "ipython",
    "version": 3
   },
   "file_extension": ".py",
   "mimetype": "text/x-python",
   "name": "python",
   "nbconvert_exporter": "python",
   "pygments_lexer": "ipython3",
   "version": "3.7.3"
  }
 },
 "nbformat": 4,
 "nbformat_minor": 2
}
