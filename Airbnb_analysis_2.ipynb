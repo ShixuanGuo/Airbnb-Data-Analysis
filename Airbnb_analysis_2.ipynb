{
 "cells": [
  {
   "cell_type": "code",
   "execution_count": 1,
   "metadata": {
    "scrolled": true
   },
   "outputs": [
    {
     "name": "stderr",
     "output_type": "stream",
     "text": [
      "/Users/sherryguo/anaconda3/lib/python3.7/site-packages/statsmodels/tools/_testing.py:19: FutureWarning: pandas.util.testing is deprecated. Use the functions in the public API at pandas.testing instead.\n",
      "  import pandas.util.testing as tm\n"
     ]
    }
   ],
   "source": [
    "# Import necessary packages\n",
    "import pandas as pd\n",
    "import numpy as np\n",
    "import operator\n",
    "\n",
    "from nltk.corpus import stopwords\n",
    "stop = stopwords.words('english')\n",
    "\n",
    "import string\n",
    "from string import digits\n",
    "punctuation = string.punctuation\n",
    "\n",
    "from pandasql import sqldf\n",
    "\n",
    "import datetime as dt\n",
    "\n",
    "import matplotlib.pyplot as plt\n",
    "import matplotlib.dates as mdates\n",
    "from matplotlib.dates import DateFormatter\n",
    "import seaborn as sns"
   ]
  },
  {
   "cell_type": "markdown",
   "metadata": {},
   "source": [
    "# 1. Overview of database"
   ]
  },
  {
   "cell_type": "code",
   "execution_count": 2,
   "metadata": {
    "scrolled": true
   },
   "outputs": [
    {
     "name": "stderr",
     "output_type": "stream",
     "text": [
      "/Users/sherryguo/anaconda3/lib/python3.7/site-packages/IPython/core/interactiveshell.py:3057: DtypeWarning: Columns (61,62) have mixed types.Specify dtype option on import or set low_memory=False.\n",
      "  interactivity=interactivity, compiler=compiler, result=result)\n"
     ]
    }
   ],
   "source": [
    "#import data\n",
    "df_list=pd.read_csv('listings.csv')\n",
    "df_review=pd.read_csv('reviews.csv',parse_dates=['date'])\n",
    "df_cal=pd.read_csv('calendar.csv',parse_dates=['date'])"
   ]
  },
  {
   "cell_type": "code",
   "execution_count": 7,
   "metadata": {},
   "outputs": [
    {
     "data": {
      "text/html": [
       "<div>\n",
       "<style scoped>\n",
       "    .dataframe tbody tr th:only-of-type {\n",
       "        vertical-align: middle;\n",
       "    }\n",
       "\n",
       "    .dataframe tbody tr th {\n",
       "        vertical-align: top;\n",
       "    }\n",
       "\n",
       "    .dataframe thead th {\n",
       "        text-align: right;\n",
       "    }\n",
       "</style>\n",
       "<table border=\"1\" class=\"dataframe\">\n",
       "  <thead>\n",
       "    <tr style=\"text-align: right;\">\n",
       "      <th></th>\n",
       "      <th>listing_id</th>\n",
       "      <th>id</th>\n",
       "      <th>date</th>\n",
       "      <th>reviewer_id</th>\n",
       "      <th>reviewer_name</th>\n",
       "      <th>comments</th>\n",
       "    </tr>\n",
       "  </thead>\n",
       "  <tbody>\n",
       "    <tr>\n",
       "      <th>0</th>\n",
       "      <td>109</td>\n",
       "      <td>449036</td>\n",
       "      <td>2011-08-15</td>\n",
       "      <td>927861</td>\n",
       "      <td>Edwin</td>\n",
       "      <td>The host canceled my reservation the day befor...</td>\n",
       "    </tr>\n",
       "    <tr>\n",
       "      <th>1</th>\n",
       "      <td>109</td>\n",
       "      <td>74506539</td>\n",
       "      <td>2016-05-15</td>\n",
       "      <td>22509885</td>\n",
       "      <td>Jenn</td>\n",
       "      <td>Me and two friends stayed for four and a half ...</td>\n",
       "    </tr>\n",
       "    <tr>\n",
       "      <th>2</th>\n",
       "      <td>344</td>\n",
       "      <td>79805581</td>\n",
       "      <td>2016-06-14</td>\n",
       "      <td>2089550</td>\n",
       "      <td>Drew &amp; Katie</td>\n",
       "      <td>We really enjoyed our stay here in Burbank! Th...</td>\n",
       "    </tr>\n",
       "    <tr>\n",
       "      <th>3</th>\n",
       "      <td>344</td>\n",
       "      <td>120725697</td>\n",
       "      <td>2016-12-11</td>\n",
       "      <td>32602867</td>\n",
       "      <td>Christopher</td>\n",
       "      <td>I had a ton of fun learning to play Go with Fu...</td>\n",
       "    </tr>\n",
       "    <tr>\n",
       "      <th>4</th>\n",
       "      <td>344</td>\n",
       "      <td>123800867</td>\n",
       "      <td>2016-12-30</td>\n",
       "      <td>35822259</td>\n",
       "      <td>May</td>\n",
       "      <td>The host canceled this reservation the day bef...</td>\n",
       "    </tr>\n",
       "  </tbody>\n",
       "</table>\n",
       "</div>"
      ],
      "text/plain": [
       "   listing_id         id        date  reviewer_id reviewer_name  \\\n",
       "0         109     449036  2011-08-15       927861         Edwin   \n",
       "1         109   74506539  2016-05-15     22509885          Jenn   \n",
       "2         344   79805581  2016-06-14      2089550  Drew & Katie   \n",
       "3         344  120725697  2016-12-11     32602867   Christopher   \n",
       "4         344  123800867  2016-12-30     35822259           May   \n",
       "\n",
       "                                            comments  \n",
       "0  The host canceled my reservation the day befor...  \n",
       "1  Me and two friends stayed for four and a half ...  \n",
       "2  We really enjoyed our stay here in Burbank! Th...  \n",
       "3  I had a ton of fun learning to play Go with Fu...  \n",
       "4  The host canceled this reservation the day bef...  "
      ]
     },
     "execution_count": 7,
     "metadata": {},
     "output_type": "execute_result"
    }
   ],
   "source": [
    "df_review.head()"
   ]
  },
  {
   "cell_type": "markdown",
   "metadata": {},
   "source": [
    "## 1.1 Listing"
   ]
  },
  {
   "cell_type": "markdown",
   "metadata": {},
   "source": [
    "There are 45053 unique listings in LA. "
   ]
  },
  {
   "cell_type": "code",
   "execution_count": 3,
   "metadata": {},
   "outputs": [
    {
     "name": "stdout",
     "output_type": "stream",
     "text": [
      "45053\n"
     ]
    }
   ],
   "source": [
    "unique_listing=df_list.id.nunique()\n",
    "print(unique_listing)"
   ]
  },
  {
   "cell_type": "markdown",
   "metadata": {},
   "source": [
    "The recorded prices start from 2019-09-14 and end at 2020-09-12"
   ]
  },
  {
   "cell_type": "code",
   "execution_count": 14,
   "metadata": {},
   "outputs": [
    {
     "data": {
      "text/plain": [
       "('2020-09-12', '2019-09-14')"
      ]
     },
     "execution_count": 14,
     "metadata": {},
     "output_type": "execute_result"
    }
   ],
   "source": [
    "df_cal['date'].max(),df_cal['date'].min()"
   ]
  },
  {
   "cell_type": "markdown",
   "metadata": {},
   "source": [
    "## 1.2 Host"
   ]
  },
  {
   "cell_type": "markdown",
   "metadata": {},
   "source": [
    "There are 26286 unique hosts in LA in total."
   ]
  },
  {
   "cell_type": "code",
   "execution_count": 5,
   "metadata": {
    "scrolled": true
   },
   "outputs": [
    {
     "name": "stdout",
     "output_type": "stream",
     "text": [
      "26286\n"
     ]
    }
   ],
   "source": [
    "print(df_list.host_id.nunique())"
   ]
  },
  {
   "cell_type": "markdown",
   "metadata": {},
   "source": [
    "On average, each host has 12 listings.  \n",
    "The maximum and minimum number of listings per host is 29584 and 1.  \n",
    "The number of listings per host varies a lot. "
   ]
  },
  {
   "cell_type": "code",
   "execution_count": 6,
   "metadata": {},
   "outputs": [
    {
     "data": {
      "text/plain": [
       "mean         11.932397\n",
       "median        1.000000\n",
       "std         242.143721\n",
       "amin          1.000000\n",
       "amax      29584.000000\n",
       "Name: calculated_host_listings_count, dtype: float64"
      ]
     },
     "execution_count": 6,
     "metadata": {},
     "output_type": "execute_result"
    }
   ],
   "source": [
    "df_2=df_list.groupby(by=['host_id'])['calculated_host_listings_count'].sum()\n",
    "df_2a=df_2.agg([np.mean,np.median,np.std, np.min, np.max])\n",
    "df_2a"
   ]
  },
  {
   "cell_type": "markdown",
   "metadata": {},
   "source": [
    "## 1.3 Reviews"
   ]
  },
  {
   "cell_type": "markdown",
   "metadata": {},
   "source": [
    "There are 1509564 reviews in total."
   ]
  },
  {
   "cell_type": "code",
   "execution_count": 10,
   "metadata": {},
   "outputs": [
    {
     "data": {
      "text/plain": [
       "1509564"
      ]
     },
     "execution_count": 10,
     "metadata": {},
     "output_type": "execute_result"
    }
   ],
   "source": [
    "df_review.shape[0]"
   ]
  },
  {
   "cell_type": "code",
   "execution_count": null,
   "metadata": {},
   "outputs": [],
   "source": []
  },
  {
   "cell_type": "markdown",
   "metadata": {},
   "source": [
    "# 2. Analysis of Data Quality"
   ]
  },
  {
   "cell_type": "markdown",
   "metadata": {},
   "source": [
    "## 2.1 Key Features"
   ]
  },
  {
   "cell_type": "code",
   "execution_count": null,
   "metadata": {},
   "outputs": [],
   "source": [
    "# extract key columns we want to analysis\n",
    "list_columns=['listing_id','price','room_type','neighbourhood','beds'\n",
    "              'host_id','calculated_host_listings_count','host_is_superhost','host_verifications',\n",
    "              'number_of_reviews','reviews_per_month','review_scores_location', 'review_scores_cleanliness','review_scores_rating',\n",
    "              'zipcode','latitude','longitude']\n",
    "df_list=df_list[list_columns]"
   ]
  },
  {
   "cell_type": "markdown",
   "metadata": {},
   "source": [
    "## 2.2 Missing Data"
   ]
  },
  {
   "cell_type": "code",
   "execution_count": 21,
   "metadata": {},
   "outputs": [
    {
     "name": "stdout",
     "output_type": "stream",
     "text": [
      "45053 16444345 1509564\n"
     ]
    }
   ],
   "source": [
    "#find all missing data\n",
    "miss_listings = df_list.isnull()\n",
    "miss_cal=df_cal.isnull()\n",
    "miss_review=df_review.isnull()\n",
    "print(miss_listings.shape[0],miss_cal.shape[0],miss_review.shape[0])"
   ]
  },
  {
   "cell_type": "code",
   "execution_count": 20,
   "metadata": {},
   "outputs": [
    {
     "data": {
      "text/plain": [
       "id                                                 0\n",
       "listing_url                                        0\n",
       "scrape_id                                          0\n",
       "last_scraped                                       0\n",
       "name                                               6\n",
       "                                                ... \n",
       "calculated_host_listings_count                     0\n",
       "calculated_host_listings_count_entire_homes        0\n",
       "calculated_host_listings_count_private_rooms       0\n",
       "calculated_host_listings_count_shared_rooms        0\n",
       "reviews_per_month                               8519\n",
       "Length: 106, dtype: int64"
      ]
     },
     "execution_count": 20,
     "metadata": {},
     "output_type": "execute_result"
    }
   ],
   "source": [
    "miss_listings.sum()"
   ]
  },
  {
   "cell_type": "code",
   "execution_count": 23,
   "metadata": {},
   "outputs": [],
   "source": [
    "#remove all columns with more than 50% missing values\n",
    "miss_50=df_list.columns[miss_listings.sum()/len(df_list)>0.5]\n",
    "df_list=df_list.drop(miss_50,axis=1)\n",
    "\n",
    "#fill other missing values\n",
    "df_list.fillna(0,inplace=True)"
   ]
  },
  {
   "cell_type": "code",
   "execution_count": 24,
   "metadata": {},
   "outputs": [
    {
     "data": {
      "text/plain": [
       "Index(['thumbnail_url', 'medium_url', 'xl_picture_url', 'host_acceptance_rate',\n",
       "       'neighbourhood_group_cleansed', 'square_feet', 'weekly_price',\n",
       "       'monthly_price', 'license'],\n",
       "      dtype='object')"
      ]
     },
     "execution_count": 24,
     "metadata": {},
     "output_type": "execute_result"
    }
   ],
   "source": [
    "miss_50"
   ]
  },
  {
   "cell_type": "markdown",
   "metadata": {},
   "source": [
    "## 2.2 Data Transforming"
   ]
  },
  {
   "cell_type": "code",
   "execution_count": 122,
   "metadata": {},
   "outputs": [],
   "source": [
    "#price: in string format; transform into float values\n",
    "def getmoney(price):\n",
    "    str_pri=str(price)\n",
    "    str_price=str_pri.replace(\",\",\"\").strip('$')\n",
    "    num_price=float(str_price)\n",
    "    return num_price\n",
    "df_list['price']=df_list['price'].apply(getmoney)\n",
    "df_cal['price']=df_cal['price'].apply(getmoney)"
   ]
  },
  {
   "cell_type": "code",
   "execution_count": null,
   "metadata": {},
   "outputs": [],
   "source": [
    "#comments: only select comments in English\n"
   ]
  },
  {
   "cell_type": "code",
   "execution_count": null,
   "metadata": {},
   "outputs": [],
   "source": [
    "# Boolean types are replaced with a 0 or 1\n",
    "def repl_f_t(l):\n",
    "    l = l.replace('f', 0);\n",
    "    l = l.replace('t', 1);\n",
    "    return l"
   ]
  },
  {
   "cell_type": "code",
   "execution_count": null,
   "metadata": {},
   "outputs": [],
   "source": [
    "#date\n",
    "df_cal['date']=df_cal['date'].dt.date\n",
    "df_review['date']=df_review['date'].dt.date"
   ]
  },
  {
   "cell_type": "markdown",
   "metadata": {},
   "source": [
    "# 3. Exploratory Data Analysis"
   ]
  },
  {
   "cell_type": "markdown",
   "metadata": {},
   "source": [
    "## 3.1 Spatial Data Analysis"
   ]
  },
  {
   "cell_type": "code",
   "execution_count": null,
   "metadata": {},
   "outputs": [],
   "source": []
  },
  {
   "cell_type": "markdown",
   "metadata": {},
   "source": [
    "## 3.2 Price and D&S"
   ]
  },
  {
   "cell_type": "markdown",
   "metadata": {},
   "source": [
    "1) Price of listing"
   ]
  },
  {
   "cell_type": "code",
   "execution_count": 123,
   "metadata": {},
   "outputs": [
    {
     "data": {
      "text/plain": [
       "amax    25000.0000\n",
       "amin       10.0274\n",
       "mean      218.0288\n",
       "std       580.2143\n",
       "Name: price, dtype: float64"
      ]
     },
     "execution_count": 123,
     "metadata": {},
     "output_type": "execute_result"
    }
   ],
   "source": [
    "# Analysis of the average price of a listing in Los Angles\n",
    "df_6=df_cal.groupby(by=['listing_id'])['price'].mean().agg([np.max,np.min,np.mean,np.std])\n",
    "round(df_6,4)"
   ]
  },
  {
   "cell_type": "code",
   "execution_count": 124,
   "metadata": {},
   "outputs": [],
   "source": [
    "df_6b=df_cal.groupby(by=['date'])['price'].mean()\n",
    "df_6b=pd.DataFrame(data=df_6b, columns=['price']).reset_index()"
   ]
  },
  {
   "cell_type": "code",
   "execution_count": 134,
   "metadata": {},
   "outputs": [
    {
     "data": {
      "image/png": "[encoded data removed]",
      "text/plain": [
       "<Figure size 504x360 with 1 Axes>"
      ]
     },
     "metadata": {
      "needs_background": "light"
     },
     "output_type": "display_data"
    }
   ],
   "source": [
    "fig,ax=plt.subplots(figsize=(7,5))\n",
    "ax.plot(df_6b.date,df_6b.price,color='b')\n",
    "ax.set(title = \"Trend of Price\", xlabel=\"Date\", ylabel=\"Average price each day\")\n",
    "ax.xaxis.set_major_locator(mdates.MonthLocator())\n",
    "plt.xticks(rotation=70)\n",
    "plt.show()"
   ]
  },
  {
   "cell_type": "code",
   "execution_count": 48,
   "metadata": {},
   "outputs": [
    {
     "data": {
      "text/plain": [
       "amax    25000.0000\n",
       "amin       10.1475\n",
       "mean      254.7782\n",
       "std       684.7550\n",
       "Name: price, dtype: float64"
      ]
     },
     "execution_count": 48,
     "metadata": {},
     "output_type": "execute_result"
    }
   ],
   "source": [
    "# Analysis of the average price of a listing in Los Angles from 01/01/2020 to 03/01/2020 (inclusive)\n",
    "df_6a=df_cal.loc[(df_cal.date>='2020-01-01') & (df_cal.date<='2020-03-01') &\\\n",
    "                 (df_cal.available=='t'), :]\n",
    "\n",
    "df_6=df_6a.groupby(by=['listing_id'])['price'].mean().agg([np.max,np.min,np.mean,np.std])\n",
    "round(df_6,4)"
   ]
  },
  {
   "cell_type": "markdown",
   "metadata": {},
   "source": [
    "2) The number of reviews "
   ]
  },
  {
   "cell_type": "code",
   "execution_count": null,
   "metadata": {},
   "outputs": [],
   "source": []
  },
  {
   "cell_type": "markdown",
   "metadata": {},
   "source": [
    "3) Changes of number of listing  \n",
    "Number of listing did not change."
   ]
  },
  {
   "cell_type": "code",
   "execution_count": 138,
   "metadata": {},
   "outputs": [
    {
     "data": {
      "text/plain": [
       "amax    45053.0\n",
       "amin    45053.0\n",
       "mean    45053.0\n",
       "std         0.0\n",
       "Name: listing_id, dtype: float64"
      ]
     },
     "execution_count": 138,
     "metadata": {},
     "output_type": "execute_result"
    }
   ],
   "source": [
    "df_6c=df_cal.groupby(by=['date'])['listing_id'].nunique().agg([np.max,np.min,np.mean,np.std])\n",
    "df_6c"
   ]
  },
  {
   "cell_type": "code",
   "execution_count": null,
   "metadata": {},
   "outputs": [],
   "source": []
  },
  {
   "cell_type": "markdown",
   "metadata": {},
   "source": [
    "## 3.3 Host Data Analysis"
   ]
  },
  {
   "cell_type": "markdown",
   "metadata": {},
   "source": [
    "1) What makes someone a superhost?"
   ]
  },
  {
   "cell_type": "markdown",
   "metadata": {},
   "source": [
    "For super host, the average number of listings is 7.359 with a standard deviation of 20.867. For non-super host, the average number of listings is 6.795 with a standard deviation of 14.348."
   ]
  },
  {
   "cell_type": "code",
   "execution_count": 15,
   "metadata": {},
   "outputs": [
    {
     "data": {
      "text/html": [
       "<div>\n",
       "<style scoped>\n",
       "    .dataframe tbody tr th:only-of-type {\n",
       "        vertical-align: middle;\n",
       "    }\n",
       "\n",
       "    .dataframe tbody tr th {\n",
       "        vertical-align: top;\n",
       "    }\n",
       "\n",
       "    .dataframe thead th {\n",
       "        text-align: right;\n",
       "    }\n",
       "</style>\n",
       "<table border=\"1\" class=\"dataframe\">\n",
       "  <thead>\n",
       "    <tr style=\"text-align: right;\">\n",
       "      <th></th>\n",
       "      <th>host_is_superhost</th>\n",
       "      <th>mean</th>\n",
       "      <th>std</th>\n",
       "    </tr>\n",
       "  </thead>\n",
       "  <tbody>\n",
       "    <tr>\n",
       "      <th>0</th>\n",
       "      <td>f</td>\n",
       "      <td>6.795214</td>\n",
       "      <td>14.348464</td>\n",
       "    </tr>\n",
       "    <tr>\n",
       "      <th>1</th>\n",
       "      <td>t</td>\n",
       "      <td>7.359444</td>\n",
       "      <td>20.866644</td>\n",
       "    </tr>\n",
       "  </tbody>\n",
       "</table>\n",
       "</div>"
      ],
      "text/plain": [
       "  host_is_superhost      mean        std\n",
       "0                 f  6.795214  14.348464\n",
       "1                 t  7.359444  20.866644"
      ]
     },
     "execution_count": 15,
     "metadata": {},
     "output_type": "execute_result"
    }
   ],
   "source": [
    "df_3=df_list.groupby(by=['host_is_superhost'])['calculated_host_listings_count'].agg([np.mean,np.std])\n",
    "df_3.reset_index(inplace=True)\n",
    "df_3"
   ]
  },
  {
   "cell_type": "markdown",
   "metadata": {},
   "source": [
    "2) What are the types of host verifications?"
   ]
  },
  {
   "cell_type": "markdown",
   "metadata": {},
   "source": [
    "There are 22 unique types of host veriftication in LA rental market.  \n",
    "The top 5 popular types are phone, email, reviews, government_id and offline_government_id"
   ]
  },
  {
   "cell_type": "code",
   "execution_count": 4,
   "metadata": {},
   "outputs": [
    {
     "data": {
      "text/plain": [
       "{\"'email'\": 42359,\n",
       " \"'phone'\": 44881,\n",
       " \"'facebook'\": 8430,\n",
       " \"'reviews'\": 32907,\n",
       " \"'kba'\": 10762,\n",
       " \"'jumio'\": 20670,\n",
       " \"'government_id'\": 28789,\n",
       " \"'offline_government_id'\": 20906,\n",
       " \"'selfie'\": 13362,\n",
       " \"'identity_manual'\": 12284,\n",
       " \"'work_email'\": 6296,\n",
       " \"'manual_online'\": 307,\n",
       " \"'manual_offline'\": 611,\n",
       " \"'google'\": 3416,\n",
       " '': 7,\n",
       " \"'sent_id'\": 144,\n",
       " 'None': 16,\n",
       " \"'sesame'\": 42,\n",
       " \"'sesame_offline'\": 42,\n",
       " \"'photographer'\": 3,\n",
       " \"'zhima_selfie'\": 181,\n",
       " \"'weibo'\": 78}"
      ]
     },
     "execution_count": 4,
     "metadata": {},
     "output_type": "execute_result"
    }
   ],
   "source": [
    "#unique types of verification and the total number of hosts verify that type\n",
    "d={}\n",
    "count=0\n",
    "for i in range(len(df_list)):\n",
    "    a=df_list[\"host_verifications\"][i].strip(\"[\").strip(\"]\").replace(' ', '').split(\",\")\n",
    "    for j in range(len(a)):\n",
    "        if a[j] in d:\n",
    "            d[a[j]]+=1\n",
    "        else:\n",
    "            d[a[j]]=1\n",
    "    count+=len(a)\n",
    "\n",
    "len(d)\n",
    "d"
   ]
  },
  {
   "cell_type": "code",
   "execution_count": 5,
   "metadata": {
    "scrolled": true
   },
   "outputs": [
    {
     "data": {
      "text/plain": [
       "[(\"'phone'\", 0.1821),\n",
       " (\"'email'\", 0.1718),\n",
       " (\"'reviews'\", 0.1335),\n",
       " (\"'government_id'\", 0.1168),\n",
       " (\"'offline_government_id'\", 0.0848),\n",
       " (\"'jumio'\", 0.0839),\n",
       " (\"'selfie'\", 0.0542),\n",
       " (\"'identity_manual'\", 0.0498),\n",
       " (\"'kba'\", 0.0437),\n",
       " (\"'facebook'\", 0.0342),\n",
       " (\"'work_email'\", 0.0255),\n",
       " (\"'google'\", 0.0139),\n",
       " (\"'manual_offline'\", 0.0025),\n",
       " (\"'manual_online'\", 0.0012),\n",
       " (\"'zhima_selfie'\", 0.0007),\n",
       " (\"'sent_id'\", 0.0006),\n",
       " (\"'weibo'\", 0.0003),\n",
       " (\"'sesame'\", 0.0002),\n",
       " (\"'sesame_offline'\", 0.0002),\n",
       " ('None', 0.0001),\n",
       " ('', 0.0),\n",
       " (\"'photographer'\", 0.0)]"
      ]
     },
     "execution_count": 5,
     "metadata": {},
     "output_type": "execute_result"
    }
   ],
   "source": [
    "#popular verification types and the percent of hosts verify that type\n",
    "for name in d.keys():\n",
    "    precent=d[name]/count\n",
    "    d[name]=round(precent,4)\n",
    "\n",
    "sorted_d = sorted(d.items(), key=operator.itemgetter(1),reverse=True)\n",
    "sorted_d"
   ]
  },
  {
   "cell_type": "code",
   "execution_count": null,
   "metadata": {},
   "outputs": [],
   "source": []
  },
  {
   "cell_type": "markdown",
   "metadata": {},
   "source": [
    "## 3.4 User Reviews Analysis"
   ]
  },
  {
   "cell_type": "code",
   "execution_count": null,
   "metadata": {},
   "outputs": [],
   "source": []
  },
  {
   "cell_type": "markdown",
   "metadata": {},
   "source": [
    "# 4. Conclusions"
   ]
  },
  {
   "cell_type": "code",
   "execution_count": null,
   "metadata": {},
   "outputs": [],
   "source": []
  }
 ],
 "metadata": {
  "kernelspec": {
   "display_name": "Python 3",
   "language": "python",
   "name": "python3"
  },
  "language_info": {
   "codemirror_mode": {
    "name": "ipython",
    "version": 3
   },
   "file_extension": ".py",
   "mimetype": "text/x-python",
   "name": "python",
   "nbconvert_exporter": "python",
   "pygments_lexer": "ipython3",
   "version": "3.7.3"
  }
 },
 "nbformat": 4,
 "nbformat_minor": 2
}
